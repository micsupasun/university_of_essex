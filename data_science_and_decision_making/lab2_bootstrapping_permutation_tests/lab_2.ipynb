{
  "nbformat": 4,
  "nbformat_minor": 0,
  "metadata": {
    "colab": {
      "provenance": [],
      "include_colab_link": true
    },
    "kernelspec": {
      "name": "python3",
      "display_name": "Python 3"
    },
    "language_info": {
      "name": "python"
    }
  },
  "cells": [
    {
      "cell_type": "markdown",
      "metadata": {
        "id": "view-in-github",
        "colab_type": "text"
      },
      "source": [
        "<a href=\"https://colab.research.google.com/github/micsupasun/university_of_essex/blob/main/data_science_and_decision_making/lab2_bootstrapping_permutation_tests/lab_2.ipynb\" target=\"_parent\"><img src=\"https://colab.research.google.com/assets/colab-badge.svg\" alt=\"Open In Colab\"/></a>"
      ]
    },
    {
      "cell_type": "markdown",
      "source": [
        "#IMPORT LIBRARY"
      ],
      "metadata": {
        "id": "aqkLsnzyrAZe"
      }
    },
    {
      "cell_type": "markdown",
      "source": [
        "In this notebook you'll create your own bootstrap function following the bootstrap algorithm (check the lecture notes!)\n",
        "\n"
      ],
      "metadata": {
        "id": "-P0Gryd75Rs6"
      }
    },
    {
      "cell_type": "code",
      "source": [
        "from google.colab import drive\n",
        "drive.mount('/content/drive')"
      ],
      "metadata": {
        "colab": {
          "base_uri": "https://localhost:8080/"
        },
        "id": "RTGQ5D0Z6xIa",
        "outputId": "3d3d8ed5-6157-4dde-c2e1-ad5af028b7b9"
      },
      "execution_count": null,
      "outputs": [
        {
          "output_type": "stream",
          "name": "stdout",
          "text": [
            "Mounted at /content/drive\n"
          ]
        }
      ]
    },
    {
      "cell_type": "code",
      "execution_count": null,
      "metadata": {
        "id": "lhr0FpPrp00G"
      },
      "outputs": [],
      "source": [
        "import matplotlib\n",
        "import pandas as pd\n",
        "import seaborn as sns\n",
        "import numpy as np"
      ]
    },
    {
      "cell_type": "code",
      "source": [
        "# Load the data\n",
        "df = pd.read_csv('/content/drive/MyDrive/CE888_Labs/lab2/customers.csv')\n",
        "all_data_customer = df.values.T[1]"
      ],
      "metadata": {
        "id": "gC6Ze6KAp305"
      },
      "execution_count": null,
      "outputs": []
    },
    {
      "cell_type": "code",
      "source": [
        "print(df.shape)\n",
        "print(all_data_customer)"
      ],
      "metadata": {
        "colab": {
          "base_uri": "https://localhost:8080/"
        },
        "id": "gjB2mb7gRPPB",
        "outputId": "0fe22fae-31fb-4915-b091-dfd0eacfe6c1"
      },
      "execution_count": null,
      "outputs": [
        {
          "output_type": "stream",
          "name": "stdout",
          "text": [
            "(14, 2)\n",
            "[ 2.  8. 20. 13.  5.  9. 10.  8. 22. 10.  2.  4.  7.  9.]\n"
          ]
        }
      ]
    },
    {
      "cell_type": "code",
      "source": [
        "sample_size = 10\n",
        "n_bootstraps = 5\n",
        "\n",
        "d_array = np.random.choice(all_data_customer,size=(n_bootstraps,sample_size))\n",
        "print(\"arrays -----\")\n",
        "print(d_array)\n",
        "print(d_array.shape[0])\n",
        "\n",
        "# d_mean_arr = d_array.nanmean(axis = 1)\n",
        "d_mean_arr = np.nanmean(d_array, axis=1)\n",
        "print(\"individual means - \")\n",
        "print(d_mean_arr)\n",
        "\n",
        "d_mean_arr = d_array.mean(axis=1)\n",
        "print(\"individual means - \")\n",
        "print(d_mean_arr)\n",
        "\n",
        "d_mean_arr_sort = np.sort(d_mean_arr)\n",
        "print(\"sorted array of means - \", d_mean_arr_sort)\n",
        "\n",
        "print(\"data mean - \", np.mean(d_mean_arr_sort))\n",
        "\n",
        "print(np.percentile(d_mean_arr_sort, 2.5),np.percentile(d_mean_arr_sort, 97.5))\n",
        "print(np.percentile(d_mean_arr_sort, 10),np.percentile(d_mean_arr_sort, 90.0))"
      ],
      "metadata": {
        "colab": {
          "base_uri": "https://localhost:8080/"
        },
        "id": "aFjdbGWrRVqd",
        "outputId": "157d9e80-064d-4091-b171-4ce7c813b0fa"
      },
      "execution_count": null,
      "outputs": [
        {
          "output_type": "stream",
          "name": "stdout",
          "text": [
            "arrays -----\n",
            "[[ 4.  7. 10.  2.  8. 13. 22. 10. 22.  5.]\n",
            " [13.  8. 22. 20.  9. 10.  2.  8.  8.  9.]\n",
            " [ 2.  4.  2.  5.  8.  9.  9.  5.  8.  9.]\n",
            " [ 5. 22. 10.  2.  9.  9.  2. 20. 10.  7.]\n",
            " [ 8. 20. 10.  5.  2.  2. 20. 10. 20. 22.]]\n",
            "5\n",
            "individual means - \n",
            "[10.3 10.9  6.1  9.6 11.9]\n",
            "individual means - \n",
            "[10.3 10.9  6.1  9.6 11.9]\n",
            "sorted array of means -  [ 6.1  9.6 10.3 10.9 11.9]\n",
            "data mean -  9.76\n",
            "6.449999999999999 11.8\n",
            "7.5 11.5\n"
          ]
        }
      ]
    },
    {
      "cell_type": "code",
      "source": [
        "# Checking the notes from the lecture, create here your own bootstrap function:\n",
        "# 1. Sample from the input array x to create an array of samples of shape (n_bootstraps, sample_size)\n",
        "# Hint: Check the function random.choice() on Numpy\n",
        "# 2. Calculate and save the mean of the array (this is \"data_mean\" that is returned by the function)\n",
        "# 3. Calculate the mean from each bootstrap (i.e., row) and store it.\n",
        "# (This should be an array of n_bootstraps values)\n",
        "# 4. Calculate the lower and upper bounds for a 95% CI (hint: check the percentile function on Numpy)\n",
        "# 5. Return data_mean, and the lower and upper bounds of your interval\n",
        "def bootstrap_mean(x, sample_size, n_bootstraps):\n",
        "\td_array = np.random.choice(x,size=(n_bootstraps,sample_size))\n",
        "\td_mean_arr = d_array.mean(axis = 1)\n",
        "\td_mean_arr_sort = np.sort(d_mean_arr)\n",
        "\tdata_mean = np.mean(d_mean_arr_sort)\n",
        "\tlower = np.percentile(d_mean_arr_sort, 2.5)\n",
        "\tupper = np.percentile(d_mean_arr_sort, 97.5)\n",
        "\treturn data_mean, lower, upper"
      ],
      "metadata": {
        "id": "vymldsSBrN1j"
      },
      "execution_count": null,
      "outputs": []
    },
    {
      "cell_type": "code",
      "source": [
        "# Call your bootstrap function and plot the results\n",
        "\n",
        "boots = []\n",
        "for i in range(100, 50000, 1000):\n",
        "    boot = bootstrap_mean(all_data_customer, all_data_customer.shape[0], i)\n",
        "    boots.append([i, boot[0], \"mean\"])\n",
        "    boots.append([i, boot[1], \"lower\"])\n",
        "    boots.append([i, boot[2], \"upper\"])\n",
        "\n",
        "df_boot = pd.DataFrame(boots, columns=['Bootstrap Iterations', 'Mean', \"Value\"])\n",
        "sns_plot = sns.lmplot(df_boot.columns[0], df_boot.columns[1], data=df_boot, fit_reg=False, hue=\"Value\")\n",
        "\n",
        "sns_plot.axes[0, 0].set_ylim(0,)\n",
        "sns_plot.axes[0, 0].set_xlim(0, 50000)"
      ],
      "metadata": {
        "colab": {
          "base_uri": "https://localhost:8080/",
          "height": 444
        },
        "id": "Ysc_tWidrPlD",
        "outputId": "834c0bb6-119b-4f00-90aa-caaa9849c3cd"
      },
      "execution_count": null,
      "outputs": [
        {
          "output_type": "stream",
          "name": "stderr",
          "text": [
            "/usr/local/lib/python3.7/dist-packages/seaborn/_decorators.py:43: FutureWarning: Pass the following variables as keyword args: x, y. From version 0.12, the only valid positional argument will be `data`, and passing other arguments without an explicit keyword will result in an error or misinterpretation.\n",
            "  FutureWarning\n"
          ]
        },
        {
          "output_type": "execute_result",
          "data": {
            "text/plain": [
              "(0.0, 50000.0)"
            ]
          },
          "metadata": {},
          "execution_count": 12
        },
        {
          "output_type": "display_data",
          "data": {
            "text/plain": [
              "<Figure size 425.125x360 with 1 Axes>"
            ],
            "image/png": "[encoded data removed]"
          },
          "metadata": {
            "needs_background": "light"
          }
        }
      ]
    },
    {
      "cell_type": "markdown",
      "source": [
        "Now, modify the bootstrap function you created above so that you can pass your desired confidence interval as a parameter.\n",
        "\n"
      ],
      "metadata": {
        "id": "xsptx6_g5W-7"
      }
    },
    {
      "cell_type": "code",
      "source": [
        "#     d_mean_arr = d_array.mean(axis = 1, skipna = True)\n",
        "def bootstrap_mean_ci(sample, sample_size, n_bootstraps, ci):\n",
        "\t# <---INSERT YOUR CODE HERE--->\n",
        "    d_array = np.random.choice(sample,size=(n_bootstraps,sample_size))\n",
        "    d_mean_arr = np.nanmean(d_array, axis=1)\n",
        "    d_mean_arr_sort = np.sort(d_mean_arr)\n",
        "    data_mean = np.mean(d_mean_arr_sort)\n",
        "    lower_ci = (100-ci)/2\n",
        "    upper_ci = 100-lower_ci\n",
        "    lower = np.percentile(d_mean_arr_sort, lower_ci)\n",
        "    upper = np.percentile(d_mean_arr_sort, upper_ci)\n",
        "    return data_mean, lower, upper"
      ],
      "metadata": {
        "id": "X-jTViLm-lKK"
      },
      "execution_count": null,
      "outputs": []
    },
    {
      "cell_type": "markdown",
      "source": [
        "Standard deviation bootstrap function..."
      ],
      "metadata": {
        "id": "OMA8YfrJFjAX"
      }
    },
    {
      "cell_type": "code",
      "source": [
        "def bootstrap_sd_ci(sample, sample_size, n_bootstraps, ci):\n",
        "\t# <---INSERT YOUR CODE HERE--->\n",
        "    d_array = np.random.choice(sample,size=(n_bootstraps,sample_size))\n",
        "    d_std_arr = np.std(d_array, axis=1)\n",
        "    d_std_arr_sort = np.sort(d_std_arr)\n",
        "    data_std = np.std(d_std_arr_sort)\n",
        "    lower_ci = (100-ci)/2\n",
        "    upper_ci = 100-lower_ci\n",
        "    lower = np.percentile(d_std_arr_sort, lower_ci)\n",
        "    upper = np.percentile(d_std_arr_sort, upper_ci)\n",
        "    return data_std, lower, upper"
      ],
      "metadata": {
        "id": "dnaN4bDoFlpa"
      },
      "execution_count": null,
      "outputs": []
    },
    {
      "cell_type": "code",
      "source": [
        "boots = []\n",
        "for i in range(100, 50000, 1000):\n",
        "    boot = bootstrap_mean_ci(all_data_customer, all_data_customer.shape[0], i, 80)\n",
        "    boots.append([i, boot[0], \"mean\"])\n",
        "    boots.append([i, boot[1], \"lower\"])\n",
        "    boots.append([i, boot[2], \"upper\"])\n",
        "\n",
        "df_boot = pd.DataFrame(boots, columns=['Boostrap Iterations', 'Mean', \"Value\"])\n",
        "sns_plot = sns.lmplot(df_boot.columns[0], df_boot.columns[1], data=df_boot, fit_reg=False, hue=\"Value\")\n",
        "\n",
        "sns_plot.axes[0, 0].set_ylim(0,)\n",
        "sns_plot.axes[0, 0].set_xlim(0, 50000)\n",
        "\n",
        "#sns_plot.savefig(\"bootstrap_confidence_80.pdf\", bbox_inches='tight')"
      ],
      "metadata": {
        "colab": {
          "base_uri": "https://localhost:8080/",
          "height": 444
        },
        "id": "5ypqb2H1sky1",
        "outputId": "2bf665e5-3d13-4856-e583-2081be0608e9"
      },
      "execution_count": null,
      "outputs": [
        {
          "output_type": "stream",
          "name": "stderr",
          "text": [
            "/usr/local/lib/python3.7/dist-packages/seaborn/_decorators.py:43: FutureWarning: Pass the following variables as keyword args: x, y. From version 0.12, the only valid positional argument will be `data`, and passing other arguments without an explicit keyword will result in an error or misinterpretation.\n",
            "  FutureWarning\n"
          ]
        },
        {
          "output_type": "execute_result",
          "data": {
            "text/plain": [
              "(0.0, 50000.0)"
            ]
          },
          "metadata": {},
          "execution_count": 15
        },
        {
          "output_type": "display_data",
          "data": {
            "text/plain": [
              "<Figure size 425.125x360 with 1 Axes>"
            ],
            "image/png": "[encoded data removed]"
          },
          "metadata": {
            "needs_background": "light"
          }
        }
      ]
    },
    {
      "cell_type": "code",
      "source": [
        "df_boot"
      ],
      "metadata": {
        "colab": {
          "base_uri": "https://localhost:8080/",
          "height": 423
        },
        "id": "sjrF1VDX-7bc",
        "outputId": "3355a1bd-5480-4018-8783-7b51b504c1a0"
      },
      "execution_count": null,
      "outputs": [
        {
          "output_type": "execute_result",
          "data": {
            "text/plain": [
              "     Boostrap Iterations       Mean  Value\n",
              "0                    100   9.211429   mean\n",
              "1                    100   7.428571  lower\n",
              "2                    100  11.500000  upper\n",
              "3                   1100   9.233247   mean\n",
              "4                   1100   7.357143  lower\n",
              "..                   ...        ...    ...\n",
              "145                48100   7.285714  lower\n",
              "146                48100  11.214286  upper\n",
              "147                49100   9.212749   mean\n",
              "148                49100   7.285714  lower\n",
              "149                49100  11.214286  upper\n",
              "\n",
              "[150 rows x 3 columns]"
            ],
            "text/html": [
              "\n",
              "  <div id=\"df-e319dbce-5bbc-4889-9595-1ace65bf9321\">\n",
              "    <div class=\"colab-df-container\">\n",
              "      <div>\n",
              "<style scoped>\n",
              "    .dataframe tbody tr th:only-of-type {\n",
              "        vertical-align: middle;\n",
              "    }\n",
              "\n",
              "    .dataframe tbody tr th {\n",
              "        vertical-align: top;\n",
              "    }\n",
              "\n",
              "    .dataframe thead th {\n",
              "        text-align: right;\n",
              "    }\n",
              "</style>\n",
              "<table border=\"1\" class=\"dataframe\">\n",
              "  <thead>\n",
              "    <tr style=\"text-align: right;\">\n",
              "      <th></th>\n",
              "      <th>Boostrap Iterations</th>\n",
              "      <th>Mean</th>\n",
              "      <th>Value</th>\n",
              "    </tr>\n",
              "  </thead>\n",
              "  <tbody>\n",
              "    <tr>\n",
              "      <th>0</th>\n",
              "      <td>100</td>\n",
              "      <td>9.211429</td>\n",
              "      <td>mean</td>\n",
              "    </tr>\n",
              "    <tr>\n",
              "      <th>1</th>\n",
              "      <td>100</td>\n",
              "      <td>7.428571</td>\n",
              "      <td>lower</td>\n",
              "    </tr>\n",
              "    <tr>\n",
              "      <th>2</th>\n",
              "      <td>100</td>\n",
              "      <td>11.500000</td>\n",
              "      <td>upper</td>\n",
              "    </tr>\n",
              "    <tr>\n",
              "      <th>3</th>\n",
              "      <td>1100</td>\n",
              "      <td>9.233247</td>\n",
              "      <td>mean</td>\n",
              "    </tr>\n",
              "    <tr>\n",
              "      <th>4</th>\n",
              "      <td>1100</td>\n",
              "      <td>7.357143</td>\n",
              "      <td>lower</td>\n",
              "    </tr>\n",
              "    <tr>\n",
              "      <th>...</th>\n",
              "      <td>...</td>\n",
              "      <td>...</td>\n",
              "      <td>...</td>\n",
              "    </tr>\n",
              "    <tr>\n",
              "      <th>145</th>\n",
              "      <td>48100</td>\n",
              "      <td>7.285714</td>\n",
              "      <td>lower</td>\n",
              "    </tr>\n",
              "    <tr>\n",
              "      <th>146</th>\n",
              "      <td>48100</td>\n",
              "      <td>11.214286</td>\n",
              "      <td>upper</td>\n",
              "    </tr>\n",
              "    <tr>\n",
              "      <th>147</th>\n",
              "      <td>49100</td>\n",
              "      <td>9.212749</td>\n",
              "      <td>mean</td>\n",
              "    </tr>\n",
              "    <tr>\n",
              "      <th>148</th>\n",
              "      <td>49100</td>\n",
              "      <td>7.285714</td>\n",
              "      <td>lower</td>\n",
              "    </tr>\n",
              "    <tr>\n",
              "      <th>149</th>\n",
              "      <td>49100</td>\n",
              "      <td>11.214286</td>\n",
              "      <td>upper</td>\n",
              "    </tr>\n",
              "  </tbody>\n",
              "</table>\n",
              "<p>150 rows × 3 columns</p>\n",
              "</div>\n",
              "      <button class=\"colab-df-convert\" onclick=\"convertToInteractive('df-e319dbce-5bbc-4889-9595-1ace65bf9321')\"\n",
              "              title=\"Convert this dataframe to an interactive table.\"\n",
              "              style=\"display:none;\">\n",
              "        \n",
              "  <svg xmlns=\"http://www.w3.org/2000/svg\" height=\"24px\"viewBox=\"0 0 24 24\"\n",
              "       width=\"24px\">\n",
              "    <path d=\"M0 0h24v24H0V0z\" fill=\"none\"/>\n",
              "    <path d=\"M18.56 5.44l.94 2.06.94-2.06 2.06-.94-2.06-.94-.94-2.06-.94 2.06-2.06.94zm-11 1L8.5 8.5l.94-2.06 2.06-.94-2.06-.94L8.5 2.5l-.94 2.06-2.06.94zm10 10l.94 2.06.94-2.06 2.06-.94-2.06-.94-.94-2.06-.94 2.06-2.06.94z\"/><path d=\"M17.41 7.96l-1.37-1.37c-.4-.4-.92-.59-1.43-.59-.52 0-1.04.2-1.43.59L10.3 9.45l-7.72 7.72c-.78.78-.78 2.05 0 2.83L4 21.41c.39.39.9.59 1.41.59.51 0 1.02-.2 1.41-.59l7.78-7.78 2.81-2.81c.8-.78.8-2.07 0-2.86zM5.41 20L4 18.59l7.72-7.72 1.47 1.35L5.41 20z\"/>\n",
              "  </svg>\n",
              "      </button>\n",
              "      \n",
              "  <style>\n",
              "    .colab-df-container {\n",
              "      display:flex;\n",
              "      flex-wrap:wrap;\n",
              "      gap: 12px;\n",
              "    }\n",
              "\n",
              "    .colab-df-convert {\n",
              "      background-color: #E8F0FE;\n",
              "      border: none;\n",
              "      border-radius: 50%;\n",
              "      cursor: pointer;\n",
              "      display: none;\n",
              "      fill: #1967D2;\n",
              "      height: 32px;\n",
              "      padding: 0 0 0 0;\n",
              "      width: 32px;\n",
              "    }\n",
              "\n",
              "    .colab-df-convert:hover {\n",
              "      background-color: #E2EBFA;\n",
              "      box-shadow: 0px 1px 2px rgba(60, 64, 67, 0.3), 0px 1px 3px 1px rgba(60, 64, 67, 0.15);\n",
              "      fill: #174EA6;\n",
              "    }\n",
              "\n",
              "    [theme=dark] .colab-df-convert {\n",
              "      background-color: #3B4455;\n",
              "      fill: #D2E3FC;\n",
              "    }\n",
              "\n",
              "    [theme=dark] .colab-df-convert:hover {\n",
              "      background-color: #434B5C;\n",
              "      box-shadow: 0px 1px 3px 1px rgba(0, 0, 0, 0.15);\n",
              "      filter: drop-shadow(0px 1px 2px rgba(0, 0, 0, 0.3));\n",
              "      fill: #FFFFFF;\n",
              "    }\n",
              "  </style>\n",
              "\n",
              "      <script>\n",
              "        const buttonEl =\n",
              "          document.querySelector('#df-e319dbce-5bbc-4889-9595-1ace65bf9321 button.colab-df-convert');\n",
              "        buttonEl.style.display =\n",
              "          google.colab.kernel.accessAllowed ? 'block' : 'none';\n",
              "\n",
              "        async function convertToInteractive(key) {\n",
              "          const element = document.querySelector('#df-e319dbce-5bbc-4889-9595-1ace65bf9321');\n",
              "          const dataTable =\n",
              "            await google.colab.kernel.invokeFunction('convertToInteractive',\n",
              "                                                     [key], {});\n",
              "          if (!dataTable) return;\n",
              "\n",
              "          const docLinkHtml = 'Like what you see? Visit the ' +\n",
              "            '<a target=\"_blank\" href=https://colab.research.google.com/notebooks/data_table.ipynb>data table notebook</a>'\n",
              "            + ' to learn more about interactive tables.';\n",
              "          element.innerHTML = '';\n",
              "          dataTable['output_type'] = 'display_data';\n",
              "          await google.colab.output.renderOutput(dataTable, element);\n",
              "          const docLink = document.createElement('div');\n",
              "          docLink.innerHTML = docLinkHtml;\n",
              "          element.appendChild(docLink);\n",
              "        }\n",
              "      </script>\n",
              "    </div>\n",
              "  </div>\n",
              "  "
            ]
          },
          "metadata": {},
          "execution_count": 53
        }
      ]
    },
    {
      "cell_type": "markdown",
      "source": [
        "#Vehicles dataset"
      ],
      "metadata": {
        "id": "ybVhOhPS5fKz"
      }
    },
    {
      "cell_type": "markdown",
      "source": [
        "Now let's work on a different dataset, which is stored in the vehicles.csv file."
      ],
      "metadata": {
        "id": "wvXP6-BQ5lsh"
      }
    },
    {
      "cell_type": "code",
      "source": [
        "# Load and visualise the vehicles dataset\n",
        "# To load the dataset: https://neptune.ai/blog/google-colab-dealing-with-files (check section \"Load individual files directly from GitHub\")\n",
        "df_vehicles = pd.read_csv('/content/drive/MyDrive/CE888_Labs/lab2/vehicles.csv')\n",
        "df_vehicles.insert(0, 'Car_ID', range(1, 1 + len(df_vehicles)))\n",
        "\n",
        "\n",
        "# Note that the current and new fleets are in different columns and have different lengths, so bear this in mind when you're plotting.\n",
        "# You can create separate scatterplots for the two fleets, as you would with the histograms, \n",
        "# or plot them both in one plot (but not one against the other).\n",
        "# <---INSERT YOUR CODE HERE--->\n",
        "sns.lmplot(df_vehicles.columns[0], df_vehicles.columns[1], data=df_vehicles, fit_reg=False)\n",
        "sns.lmplot(df_vehicles.columns[0], df_vehicles.columns[2], data=df_vehicles, fit_reg=False)\n",
        "# Note: you can add more cells as needed to organise your code and your plots\n",
        "df_vehicles"
      ],
      "metadata": {
        "id": "kQt3Uo2419j_",
        "colab": {
          "base_uri": "https://localhost:8080/",
          "height": 1000
        },
        "outputId": "dfc66bd8-7c99-4432-fae5-cad6b1945530"
      },
      "execution_count": null,
      "outputs": [
        {
          "output_type": "stream",
          "name": "stderr",
          "text": [
            "/usr/local/lib/python3.7/dist-packages/seaborn/_decorators.py:43: FutureWarning: Pass the following variables as keyword args: x, y. From version 0.12, the only valid positional argument will be `data`, and passing other arguments without an explicit keyword will result in an error or misinterpretation.\n",
            "  FutureWarning\n",
            "/usr/local/lib/python3.7/dist-packages/seaborn/_decorators.py:43: FutureWarning: Pass the following variables as keyword args: x, y. From version 0.12, the only valid positional argument will be `data`, and passing other arguments without an explicit keyword will result in an error or misinterpretation.\n",
            "  FutureWarning\n"
          ]
        },
        {
          "output_type": "execute_result",
          "data": {
            "text/plain": [
              "     Car_ID  Current fleet  New Fleet\n",
              "0         1             18       24.0\n",
              "1         2             15       27.0\n",
              "2         3             18       27.0\n",
              "3         4             16       25.0\n",
              "4         5             17       31.0\n",
              "..      ...            ...        ...\n",
              "244     245             27        NaN\n",
              "245     246             27        NaN\n",
              "246     247             32        NaN\n",
              "247     248             28        NaN\n",
              "248     249             31        NaN\n",
              "\n",
              "[249 rows x 3 columns]"
            ],
            "text/html": [
              "\n",
              "  <div id=\"df-bbbf91a1-577d-4053-b57e-8f5e09757773\">\n",
              "    <div class=\"colab-df-container\">\n",
              "      <div>\n",
              "<style scoped>\n",
              "    .dataframe tbody tr th:only-of-type {\n",
              "        vertical-align: middle;\n",
              "    }\n",
              "\n",
              "    .dataframe tbody tr th {\n",
              "        vertical-align: top;\n",
              "    }\n",
              "\n",
              "    .dataframe thead th {\n",
              "        text-align: right;\n",
              "    }\n",
              "</style>\n",
              "<table border=\"1\" class=\"dataframe\">\n",
              "  <thead>\n",
              "    <tr style=\"text-align: right;\">\n",
              "      <th></th>\n",
              "      <th>Car_ID</th>\n",
              "      <th>Current fleet</th>\n",
              "      <th>New Fleet</th>\n",
              "    </tr>\n",
              "  </thead>\n",
              "  <tbody>\n",
              "    <tr>\n",
              "      <th>0</th>\n",
              "      <td>1</td>\n",
              "      <td>18</td>\n",
              "      <td>24.0</td>\n",
              "    </tr>\n",
              "    <tr>\n",
              "      <th>1</th>\n",
              "      <td>2</td>\n",
              "      <td>15</td>\n",
              "      <td>27.0</td>\n",
              "    </tr>\n",
              "    <tr>\n",
              "      <th>2</th>\n",
              "      <td>3</td>\n",
              "      <td>18</td>\n",
              "      <td>27.0</td>\n",
              "    </tr>\n",
              "    <tr>\n",
              "      <th>3</th>\n",
              "      <td>4</td>\n",
              "      <td>16</td>\n",
              "      <td>25.0</td>\n",
              "    </tr>\n",
              "    <tr>\n",
              "      <th>4</th>\n",
              "      <td>5</td>\n",
              "      <td>17</td>\n",
              "      <td>31.0</td>\n",
              "    </tr>\n",
              "    <tr>\n",
              "      <th>...</th>\n",
              "      <td>...</td>\n",
              "      <td>...</td>\n",
              "      <td>...</td>\n",
              "    </tr>\n",
              "    <tr>\n",
              "      <th>244</th>\n",
              "      <td>245</td>\n",
              "      <td>27</td>\n",
              "      <td>NaN</td>\n",
              "    </tr>\n",
              "    <tr>\n",
              "      <th>245</th>\n",
              "      <td>246</td>\n",
              "      <td>27</td>\n",
              "      <td>NaN</td>\n",
              "    </tr>\n",
              "    <tr>\n",
              "      <th>246</th>\n",
              "      <td>247</td>\n",
              "      <td>32</td>\n",
              "      <td>NaN</td>\n",
              "    </tr>\n",
              "    <tr>\n",
              "      <th>247</th>\n",
              "      <td>248</td>\n",
              "      <td>28</td>\n",
              "      <td>NaN</td>\n",
              "    </tr>\n",
              "    <tr>\n",
              "      <th>248</th>\n",
              "      <td>249</td>\n",
              "      <td>31</td>\n",
              "      <td>NaN</td>\n",
              "    </tr>\n",
              "  </tbody>\n",
              "</table>\n",
              "<p>249 rows × 3 columns</p>\n",
              "</div>\n",
              "      <button class=\"colab-df-convert\" onclick=\"convertToInteractive('df-bbbf91a1-577d-4053-b57e-8f5e09757773')\"\n",
              "              title=\"Convert this dataframe to an interactive table.\"\n",
              "              style=\"display:none;\">\n",
              "        \n",
              "  <svg xmlns=\"http://www.w3.org/2000/svg\" height=\"24px\"viewBox=\"0 0 24 24\"\n",
              "       width=\"24px\">\n",
              "    <path d=\"M0 0h24v24H0V0z\" fill=\"none\"/>\n",
              "    <path d=\"M18.56 5.44l.94 2.06.94-2.06 2.06-.94-2.06-.94-.94-2.06-.94 2.06-2.06.94zm-11 1L8.5 8.5l.94-2.06 2.06-.94-2.06-.94L8.5 2.5l-.94 2.06-2.06.94zm10 10l.94 2.06.94-2.06 2.06-.94-2.06-.94-.94-2.06-.94 2.06-2.06.94z\"/><path d=\"M17.41 7.96l-1.37-1.37c-.4-.4-.92-.59-1.43-.59-.52 0-1.04.2-1.43.59L10.3 9.45l-7.72 7.72c-.78.78-.78 2.05 0 2.83L4 21.41c.39.39.9.59 1.41.59.51 0 1.02-.2 1.41-.59l7.78-7.78 2.81-2.81c.8-.78.8-2.07 0-2.86zM5.41 20L4 18.59l7.72-7.72 1.47 1.35L5.41 20z\"/>\n",
              "  </svg>\n",
              "      </button>\n",
              "      \n",
              "  <style>\n",
              "    .colab-df-container {\n",
              "      display:flex;\n",
              "      flex-wrap:wrap;\n",
              "      gap: 12px;\n",
              "    }\n",
              "\n",
              "    .colab-df-convert {\n",
              "      background-color: #E8F0FE;\n",
              "      border: none;\n",
              "      border-radius: 50%;\n",
              "      cursor: pointer;\n",
              "      display: none;\n",
              "      fill: #1967D2;\n",
              "      height: 32px;\n",
              "      padding: 0 0 0 0;\n",
              "      width: 32px;\n",
              "    }\n",
              "\n",
              "    .colab-df-convert:hover {\n",
              "      background-color: #E2EBFA;\n",
              "      box-shadow: 0px 1px 2px rgba(60, 64, 67, 0.3), 0px 1px 3px 1px rgba(60, 64, 67, 0.15);\n",
              "      fill: #174EA6;\n",
              "    }\n",
              "\n",
              "    [theme=dark] .colab-df-convert {\n",
              "      background-color: #3B4455;\n",
              "      fill: #D2E3FC;\n",
              "    }\n",
              "\n",
              "    [theme=dark] .colab-df-convert:hover {\n",
              "      background-color: #434B5C;\n",
              "      box-shadow: 0px 1px 3px 1px rgba(0, 0, 0, 0.15);\n",
              "      filter: drop-shadow(0px 1px 2px rgba(0, 0, 0, 0.3));\n",
              "      fill: #FFFFFF;\n",
              "    }\n",
              "  </style>\n",
              "\n",
              "      <script>\n",
              "        const buttonEl =\n",
              "          document.querySelector('#df-bbbf91a1-577d-4053-b57e-8f5e09757773 button.colab-df-convert');\n",
              "        buttonEl.style.display =\n",
              "          google.colab.kernel.accessAllowed ? 'block' : 'none';\n",
              "\n",
              "        async function convertToInteractive(key) {\n",
              "          const element = document.querySelector('#df-bbbf91a1-577d-4053-b57e-8f5e09757773');\n",
              "          const dataTable =\n",
              "            await google.colab.kernel.invokeFunction('convertToInteractive',\n",
              "                                                     [key], {});\n",
              "          if (!dataTable) return;\n",
              "\n",
              "          const docLinkHtml = 'Like what you see? Visit the ' +\n",
              "            '<a target=\"_blank\" href=https://colab.research.google.com/notebooks/data_table.ipynb>data table notebook</a>'\n",
              "            + ' to learn more about interactive tables.';\n",
              "          element.innerHTML = '';\n",
              "          dataTable['output_type'] = 'display_data';\n",
              "          await google.colab.output.renderOutput(dataTable, element);\n",
              "          const docLink = document.createElement('div');\n",
              "          docLink.innerHTML = docLinkHtml;\n",
              "          element.appendChild(docLink);\n",
              "        }\n",
              "      </script>\n",
              "    </div>\n",
              "  </div>\n",
              "  "
            ]
          },
          "metadata": {},
          "execution_count": 16
        },
        {
          "output_type": "display_data",
          "data": {
            "text/plain": [
              "<Figure size 360x360 with 1 Axes>"
            ],
            "image/png": "[encoded data removed]"
          },
          "metadata": {
            "needs_background": "light"
          }
        },
        {
          "output_type": "display_data",
          "data": {
            "text/plain": [
              "<Figure size 360x360 with 1 Axes>"
            ],
            "image/png": "[encoded data removed]"
          },
          "metadata": {
            "needs_background": "light"
          }
        }
      ]
    },
    {
      "cell_type": "markdown",
      "source": [
        "#Compare the two fleets\n"
      ],
      "metadata": {
        "id": "zaNlw6fg5s0Y"
      }
    },
    {
      "cell_type": "markdown",
      "source": [
        "The business analysts come up a comparison algorithm that requires the upper and lower bounds for the mean in order to say which fleet is better.\n",
        "\n",
        "Calculate the mean of both samples.\n",
        "Using the bootstrap function that you created:\n",
        "Construct the 95% CI of the mean of the current fleet.\n",
        "Construct the 95% CI of the mean of the new fleet.\n",
        "Are they comparable? (i.e., is one better than the other?) -- you can do this with a permutation test (check the lecture notes!)"
      ],
      "metadata": {
        "id": "MY-LuI8s5wUI"
      }
    },
    {
      "cell_type": "code",
      "source": [
        "# <---INSERT YOUR CODE HERE--->\n",
        "# 1. Calculate the mean of both samples.\n",
        "df_means = df_vehicles.mean(axis = 0, skipna = True)\n",
        "print(df_means)\n",
        "print(\"------\")\n",
        "# bootstrap_mean_ci(sample, sample_size, n_bootstraps, ci)\n",
        "data_mean_curr, lower_curr, upper_curr = bootstrap_mean_ci(df_vehicles.iloc[:,1], 15, 15, 95)\n",
        "print(data_mean_curr, lower_curr, upper_curr)\n",
        "print(\"------\")\n",
        "sample = df_vehicles.iloc[:,2].dropna()\n",
        "print(sample)\n",
        "data_mean_new, lower_new, upper_new = bootstrap_mean_ci(sample, 15, 10000, 80)\n",
        "print(data_mean_new, lower_new, upper_new)\n",
        "data_std_new, lower_new, upper_new = bootstrap_sd_ci(sample, 15, 10000, 99)\n",
        "print(data_std_new, lower_new, upper_new)"
      ],
      "metadata": {
        "id": "_Ry0fS0f1_GG",
        "colab": {
          "base_uri": "https://localhost:8080/"
        },
        "outputId": "bdc04007-4fe1-4819-a7e9-cd0ce48de6f5"
      },
      "execution_count": null,
      "outputs": [
        {
          "output_type": "stream",
          "name": "stdout",
          "text": [
            "Car_ID           125.000000\n",
            "Current fleet     20.144578\n",
            "New Fleet         30.481013\n",
            "dtype: float64\n",
            "------\n",
            "19.457777777777775 16.473333333333333 21.376666666666665\n",
            "------\n",
            "0     24.0\n",
            "1     27.0\n",
            "2     27.0\n",
            "3     25.0\n",
            "4     31.0\n",
            "      ... \n",
            "74    34.0\n",
            "75    38.0\n",
            "76    32.0\n",
            "77    38.0\n",
            "78    32.0\n",
            "Name: New Fleet, Length: 79, dtype: float64\n",
            "30.448159999999998 28.4 32.46666666666667\n",
            "1.0314584860576685 3.263263533472111 8.499997339602253\n"
          ]
        }
      ]
    },
    {
      "cell_type": "code",
      "source": [
        "df_vehicles.iloc[:,1]"
      ],
      "metadata": {
        "colab": {
          "base_uri": "https://localhost:8080/"
        },
        "id": "VMe7t-2CDR10",
        "outputId": "04c8e83c-b693-43ea-f3fa-ab6d660ae437"
      },
      "execution_count": null,
      "outputs": [
        {
          "output_type": "execute_result",
          "data": {
            "text/plain": [
              "0      18\n",
              "1      15\n",
              "2      18\n",
              "3      16\n",
              "4      17\n",
              "       ..\n",
              "244    27\n",
              "245    27\n",
              "246    32\n",
              "247    28\n",
              "248    31\n",
              "Name: Current fleet, Length: 249, dtype: int64"
            ]
          },
          "metadata": {},
          "execution_count": 18
        }
      ]
    },
    {
      "cell_type": "code",
      "source": [
        "# Create your own function for a permutation test here (you will need it for the lab quiz!):\n",
        "\n",
        "\n",
        "def permut_test(sample1, sample2, n_permutations):\n",
        "    \"\"\"\n",
        "    sample1: 1D array, old\n",
        "    sample2: 1D array (note that the size of the two arrays can be different), new\n",
        "    n_permutations: number of permutations to calculate the p-value\n",
        "    \"\"\"\n",
        "    tobs = np.mean(sample2)-np.mean(sample1)\n",
        "\n",
        "    concat = np.concatenate((sample1, sample2))\n",
        "    count=0    \n",
        "    for i in range(n_permutations):\n",
        "        perm = np.random.permutation(concat)\n",
        "        pold = perm[:int(len(perm)/2)]\n",
        "        pnew = perm[int(len(perm)/2):]\n",
        "        tperm = np.mean(pnew)-np.mean(pold)\n",
        "        if tperm>tobs:\n",
        "            count+=1\n",
        "    pvalue = count/n_permutations\n",
        "    return pvalue, tperm, tobs"
      ],
      "metadata": {
        "id": "0AVKgvWqBoI4"
      },
      "execution_count": null,
      "outputs": []
    },
    {
      "cell_type": "code",
      "source": [
        "current_old_data = df_vehicles.iloc[:,1]\n",
        "new_data = df_vehicles.iloc[:,2].dropna()\n",
        "\n",
        "# sample1 = [0,0,0,1,1,1,1,1,0,0,0]\n",
        "# sample2 = [1,1,1,1,1,1,1,1,1,0,0,0,0,1,0,1,0]\n",
        "\n",
        "pvalue = permut_test(current_old_data, new_data, 30000)\n",
        "print(pvalue)"
      ],
      "metadata": {
        "id": "E5S59wZR52wO",
        "colab": {
          "base_uri": "https://localhost:8080/"
        },
        "outputId": "fa7d31c6-a1b9-4a3b-ac8f-4e0cedd45a34"
      },
      "execution_count": null,
      "outputs": [
        {
          "output_type": "stream",
          "name": "stdout",
          "text": [
            "(0.0, -0.5121951219512191, 10.336434344974837)\n"
          ]
        }
      ]
    },
    {
      "cell_type": "markdown",
      "source": [
        "Voting data csv"
      ],
      "metadata": {
        "id": "XRFPz_0_T9R9"
      }
    },
    {
      "cell_type": "code",
      "source": [
        "dem_share_PA = [60.08, 40.64, 36.07, 41.21, 31.04, 43.78, 44.08, 46.85, 44.71, 46.15, 63.10, 52.20, 43.18, 40.24, 39.92, 47.87, 37.77, 40.11, 49.85, 48.61, 38.62, 54.25, 34.84, 47.75, 43.82, 55.97, 58.23, 42.97, 42.38, 36.11, 37.53, 42.65, 50.96, 47.43, 56.24, 45.60, 46.39, 35.22, 48.56, 32.97, 57.88, 36.05, 37.72, 50.36, 32.12, 41.55, 54.66, 57.81, 54.58, 32.88, 54.37, 40.45, 47.61, 60.49, 43.11, 27.32, 44.03, 33.56, 37.26, 54.64, 43.12, 25.34, 49.79, 83.56, 40.09, 60.81, 49.81]\n",
        "dem_share_OH = [56.94, 50.46, 65.99, 45.88, 42.23, 45.26, 57.01, 53.61, 59.10, 61.48, 43.43, 44.69, 54.59, 48.36, 45.89, 48.62, 43.92, 38.23, 28.79, 63.57, 38.07, 40.18, 43.05, 41.56, 42.49, 36.06, 52.76, 46.07, 39.43, 39.26, 47.47, 27.92, 38.01, 45.45, 29.07, 28.94, 51.28, 50.10, 39.84, 36.43, 35.71, 31.47, 47.01, 40.10, 48.76, 31.56, 39.86, 45.31, 35.47, 51.38, 46.33, 48.73, 41.77, 41.32, 48.46, 53.14, 34.01, 54.74, 40.67, 38.96, 46.29, 38.25, 6.80, 31.75, 46.33, 44.90, 33.57, 38.10, 39.67, 40.47, 49.44, 37.62, 36.71, 46.73, 42.20, 53.16, 52.40, 58.36, 68.02, 38.53, 34.58, 69.64, 60.50, 53.53, 36.54, 49.58, 41.97, 38.11]\n",
        "\n",
        "print(len(dem_share_PA))\n",
        "print(len(dem_share_OH))\n",
        "\n",
        "data_mean_new, lower_new, upper_new = bootstrap_mean_ci(dem_share_OH, 15, 20000, 95)\n",
        "print(data_mean_new, lower_new, upper_new)\n",
        "\n",
        "data_mean_new, lower_new, upper_new = bootstrap_mean_ci(dem_share_PA, 15, 20000, 95)\n",
        "print(data_mean_new, lower_new, upper_new)\n",
        "\n",
        "pvalue = permut_test(dem_share_PA, dem_share_OH, 10000)\n",
        "print(pvalue)"
      ],
      "metadata": {
        "colab": {
          "base_uri": "https://localhost:8080/"
        },
        "id": "3n0wzQ3KUBzn",
        "outputId": "dd1c1e3c-7d3a-4065-e474-363df61db89b"
      },
      "execution_count": null,
      "outputs": [
        {
          "output_type": "stream",
          "name": "stdout",
          "text": [
            "67\n",
            "88\n",
            "44.301475499999995 39.3505 49.21735\n",
            "45.45425593333334 40.77663333333333 50.59001666666666\n",
            "(0.7746, 2.1224259074259137, -1.1582360922659447)\n"
          ]
        }
      ]
    }
  ]
}