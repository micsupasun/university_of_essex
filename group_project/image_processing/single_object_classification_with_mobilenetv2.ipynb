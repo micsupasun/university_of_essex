{
  "nbformat": 4,
  "nbformat_minor": 0,
  "metadata": {
    "colab": {
      "name": "single_object_classification_with_mobilenetv2.ipynb",
      "provenance": []
    },
    "kernelspec": {
      "name": "python3",
      "display_name": "Python 3"
    },
    "language_info": {
      "name": "python"
    }
  },
  "cells": [
    {
      "cell_type": "code",
      "execution_count": null,
      "metadata": {
        "id": "uqPRyxwpJNcs"
      },
      "outputs": [],
      "source": [
        "##https://pythontutorials.eu/deep-learning/image-classification/"
      ]
    },
    {
      "cell_type": "markdown",
      "source": [
        "# To classify a single image/object using mobilenet version 2 "
      ],
      "metadata": {
        "id": "aKANHv7hRDRy"
      }
    },
    {
      "cell_type": "code",
      "source": [
        "from keras.applications.mobilenet_v2 import MobileNetV2\n",
        "\n",
        "model = MobileNetV2(weights='imagenet') #By specifying weights='imagenet', you indicate that you want the network to be pretrained."
      ],
      "metadata": {
        "id": "2qsF6FKDJtu1"
      },
      "execution_count": 17,
      "outputs": []
    },
    {
      "cell_type": "code",
      "source": [
        "import numpy as np\n",
        "from imageio import imread\n",
        "\n",
        "# MobileNetV2 expects input of shape (224, 224, 3). \n",
        "# The first dimension of the input is of size 1 because here we are passing only a single image to the model\n",
        "# 3 represents channel number\n",
        "\n",
        "data = np.empty((1, 224, 224, 3)) \n",
        "\n",
        "data[0] = imread('boef.jpg')  "
      ],
      "metadata": {
        "id": "xP_AuoOjLIsb"
      },
      "execution_count": 24,
      "outputs": []
    },
    {
      "cell_type": "code",
      "source": [
        "#MobileNetV2 expects pixel values to be in the -1 to 1 range\n",
        "# using Keras to transform the pixel values to -1 to 1\n",
        "\n",
        "from keras.applications.mobilenet_v2 import preprocess_input\n",
        "\n",
        "data = preprocess_input(data)\n",
        "\n"
      ],
      "metadata": {
        "id": "Xs3RdckjLdi-"
      },
      "execution_count": 33,
      "outputs": []
    },
    {
      "cell_type": "code",
      "source": [
        "#getting our prediction\n",
        "predictions = model.predict(data)\n",
        "print('Shape: {}'.format(predictions.shape))"
      ],
      "metadata": {
        "colab": {
          "base_uri": "https://localhost:8080/"
        },
        "id": "ol3luwAHLgSC",
        "outputId": "8086db2c-c21f-472d-d70f-1b92c187ef95"
      },
      "execution_count": 26,
      "outputs": [
        {
          "output_type": "stream",
          "name": "stdout",
          "text": [
            "Shape: (1, 1000)\n"
          ]
        }
      ]
    },
    {
      "cell_type": "code",
      "source": [
        "#the first dimension is of size 1. The second axis corresponds to the output neurons of the model. \n",
        "#Since MobileNetV2 has 1000 neurons in the output layer, the second dimension is of size 1000.\n",
        "\n",
        "output_neuron = np.argmax(predictions[0])\n",
        "print('Most active neuron: {} ({:.2f}%)'.format(\n",
        "    output_neuron,\n",
        "    100 * predictions[0][output_neuron] #Most active neuron\n",
        "))"
      ],
      "metadata": {
        "colab": {
          "base_uri": "https://localhost:8080/"
        },
        "id": "w7IjBb9xLk5s",
        "outputId": "f528bcc2-1eb5-497c-8f3d-0f23cd509427"
      },
      "execution_count": 27,
      "outputs": [
        {
          "output_type": "stream",
          "name": "stdout",
          "text": [
            "Most active neuron: 155 (82.17%)\n"
          ]
        }
      ]
    },
    {
      "cell_type": "code",
      "source": [
        "#mapping predictions onto scores for the corresponding categories:\n",
        "\n",
        "from keras.applications.mobilenet_v2 import decode_predictions\n",
        "\n",
        "for name, desc, score in decode_predictions(predictions)[0]:\n",
        "    print('- {} ({:.2f}%%)'.format(desc, 100 * score))"
      ],
      "metadata": {
        "colab": {
          "base_uri": "https://localhost:8080/"
        },
        "id": "5z12zjKYLo2y",
        "outputId": "c3d77ff4-4fba-4b5d-9ab8-2178897c80ef"
      },
      "execution_count": 34,
      "outputs": [
        {
          "output_type": "stream",
          "name": "stdout",
          "text": [
            "- Shih-Tzu (82.17%%)\n",
            "- Pekinese (8.71%%)\n",
            "- Lhasa (3.47%%)\n",
            "- Tibetan_terrier (0.77%%)\n",
            "- Old_English_sheepdog (0.28%%)\n"
          ]
        }
      ]
    }
  ]
}