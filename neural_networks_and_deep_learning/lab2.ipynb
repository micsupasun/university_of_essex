{
  "cells": [
    {
      "cell_type": "markdown",
      "metadata": {
        "id": "view-in-github",
        "colab_type": "text"
      },
      "source": [
        "<a href=\"https://colab.research.google.com/github/micsupasun/university_of_essex/blob/main/neural_networks_and_deep_learning/lab2.ipynb\" target=\"_parent\"><img src=\"https://colab.research.google.com/assets/colab-badge.svg\" alt=\"Open In Colab\"/></a>"
      ]
    },
    {
      "cell_type": "markdown",
      "id": "c2f9b719",
      "metadata": {
        "id": "c2f9b719"
      },
      "source": [
        "# scaling\n",
        "1.1Let’s have a 2D vector [1, 1]. After the scaling transformation by the factor of 2, it \n",
        "becomes a vector [2, 2]. Draw these two vectors in different colours on the same \n",
        "figure (a figure like the below one)."
      ]
    },
    {
      "cell_type": "code",
      "execution_count": null,
      "id": "3beb474e",
      "metadata": {
        "colab": {
          "base_uri": "https://localhost:8080/",
          "height": 269
        },
        "id": "3beb474e",
        "outputId": "8386e1fa-57c5-44a7-da47-708bf658549a"
      },
      "outputs": [
        {
          "output_type": "display_data",
          "data": {
            "text/plain": [
              "<Figure size 432x288 with 1 Axes>"
            ],
            "image/png": "[encoded data removed]"
          },
          "metadata": {
            "needs_background": "light"
          }
        }
      ],
      "source": [
        "# Importing packages\n",
        "import numpy as np\n",
        "import matplotlib.pyplot as plt\n",
        "\n",
        "# Define data values\n",
        "x1 = np.array([0, 1])\n",
        "y1 = np.array([0, 1])\n",
        "x2 = np.array([0, 2])\n",
        "y2 = np.array([0, 2])\n",
        "# Plot a simple line chart\n",
        "plt.plot(x1, y1, color = \"blue\",linewidth=5)\n",
        "\n",
        "# define the plot figure\n",
        "plt.xlim([0, 5])\n",
        "plt.ylim([0, 5])\n",
        "\n",
        "# Plot another line on the same chart/graph\n",
        "plt.plot(x2, y2, color = \"red\")\n",
        "\n",
        "plt.show()"
      ]
    },
    {
      "cell_type": "markdown",
      "id": "4aa5fe81",
      "metadata": {
        "id": "4aa5fe81"
      },
      "source": [
        "1.2  Create a function with two input arguments, by which the above figure can be \n",
        "generated when users input a 2D vector and the scaling factor."
      ]
    },
    {
      "cell_type": "code",
      "execution_count": null,
      "id": "7489d5f0",
      "metadata": {
        "colab": {
          "base_uri": "https://localhost:8080/",
          "height": 287
        },
        "id": "7489d5f0",
        "outputId": "22ca9497-d57a-4660-dbda-c2861337280b"
      },
      "outputs": [
        {
          "output_type": "display_data",
          "data": {
            "text/plain": [
              "<Figure size 432x288 with 1 Axes>"
            ],
            "image/png": "[encoded data removed]"
          },
          "metadata": {
            "needs_background": "light"
          }
        },
        {
          "output_type": "stream",
          "name": "stdout",
          "text": [
            "(array([0, 1]), array([0, 1]), array([0, 2]), array([0, 2]))\n"
          ]
        }
      ],
      "source": [
        "def scaling_plot(mutiple_time,location):\n",
        "    x1 = np.array(location)\n",
        "    y1 = np.array(location)\n",
        "    x2 = np.array([i * mutiple_time for i in range(len(location))])\n",
        "    y2 = np.array([i * mutiple_time for i in range(len(location))])\n",
        "    \n",
        "    # Plot a simple line chart\n",
        "    plt.plot(x1, y1, color = \"blue\",linewidth=5)\n",
        "\n",
        "    # define the plot figure\n",
        "    plt.xlim([0, 5])\n",
        "    plt.ylim([0, 5])\n",
        "\n",
        "    # Plot another line on the same chart/graph\n",
        "    plt.plot(x2, y2, color = \"red\")\n",
        "    plt.show()\n",
        "    return x1,y1,x2,y2\n",
        "\n",
        "result_one = scaling_plot(2,[0,1])    \n",
        "print(result_one)\n"
      ]
    },
    {
      "cell_type": "code",
      "source": [
        "# location = 5\n",
        "location = [1,2,3,4,5]\n",
        "list_temp = []\n",
        "for i in range(len(location)):\n",
        "  list_temp.append(i * 2)\n",
        "print(list_temp)\n",
        "\n",
        "test = [i * 3 for i in range(len(location))]\n",
        "print(test)"
      ],
      "metadata": {
        "colab": {
          "base_uri": "https://localhost:8080/"
        },
        "id": "MrEtt0JRnuQd",
        "outputId": "deded352-d20b-4454-d4d1-a97b75cb1667"
      },
      "id": "MrEtt0JRnuQd",
      "execution_count": null,
      "outputs": [
        {
          "output_type": "stream",
          "name": "stdout",
          "text": [
            "[0, 2, 4, 6, 8]\n",
            "[0, 3, 6, 9, 12]\n"
          ]
        }
      ]
    },
    {
      "cell_type": "markdown",
      "id": "adfafd4e",
      "metadata": {
        "id": "adfafd4e"
      },
      "source": [
        "# Rotation\n",
        "Create a function, by which a vector can be visualised before and after the rotation. \n",
        "Users are allowed to specify two input arguments: a 2D vector and rotation degree.\n",
        "Formula: [\n",
        "cos 𝜃 − sin 𝜃\n",
        "sin 𝜃 cos 𝜃\n",
        "]*vector\n",
        "After users input the vector [1, 1] and rotation degree 90, the below figure should be \n",
        "generated by the function."
      ]
    },
    {
      "cell_type": "code",
      "execution_count": null,
      "id": "b05b4480",
      "metadata": {
        "colab": {
          "base_uri": "https://localhost:8080/",
          "height": 390
        },
        "id": "b05b4480",
        "outputId": "53c16693-6a39-4898-e3c9-442037f7ff6a"
      },
      "outputs": [
        {
          "output_type": "stream",
          "name": "stdout",
          "text": [
            "number of x axis: 1\n",
            "number of y axis: 1\n",
            "number of angle: 90\n",
            "x_y_vector : [[0, 1], [0, 1]]\n",
            "rotation_vector [[0, -1.0], [1.0, 0]]\n",
            "rotated_vector [[ 0. -1.]\n",
            " [ 0.  1.]]\n"
          ]
        },
        {
          "output_type": "display_data",
          "data": {
            "text/plain": [
              "<Figure size 432x288 with 1 Axes>"
            ],
            "image/png": "[encoded data removed]"
          },
          "metadata": {
            "needs_background": "light"
          }
        }
      ],
      "source": [
        "import math\n",
        "from matplotlib import pyplot as plt\n",
        "import numpy as np\n",
        "\n",
        "def linear_rotaion(x,y,angle):\n",
        "  x1_vector = [0,x]\n",
        "  y1_vector = [0,y]\n",
        "  x_y_vector = [x1_vector,y1_vector]\n",
        "  print(\"x_y_vector :\",x_y_vector)\n",
        "  plt.plot(x1_vector,y1_vector,color=\"blue\",linewidth=5.0)\n",
        "  # Rotation of the given vector with the provided angle\n",
        "  rotation_vector = [[round(np.cos(math.radians(angle))),-np.sin(math.radians(angle))],[np.sin(math.radians(angle)),round(np.cos(math.radians(angle)))]]\n",
        "  print(\"rotation_vector\",rotation_vector)\n",
        "  rotated_vector = np.matmul(rotation_vector,x_y_vector)\n",
        "  print(\"rotated_vector\",rotated_vector)\n",
        "  plt.plot(rotated_vector[0],rotated_vector[1],color=\"red\")\n",
        "\n",
        "x1 = int(input(\"number of x axis: \"))\n",
        "y1 = int(input(\"number of y axis: \"))\n",
        "angle = int(input(\"number of angle: \"))\n",
        "linear_rotaion(x1,y1,angle)\n"
      ]
    },
    {
      "cell_type": "code",
      "source": [
        "# number of x axis: 1\n",
        "# number of y axis: 1\n",
        "# number of angle: 90\n",
        "# x_y_vector : [[0, 1], [0, 1]]\n",
        "# rotation_vector [[0, -1.0], [1.0, 0]]\n",
        "# rotated_vector [[ 0. -1.]\n",
        "#  [ 0.  1.]]"
      ],
      "metadata": {
        "id": "4I2vbLzIo7lL"
      },
      "id": "4I2vbLzIo7lL",
      "execution_count": null,
      "outputs": []
    },
    {
      "cell_type": "code",
      "source": [],
      "metadata": {
        "id": "smYabbLQf02D"
      },
      "id": "smYabbLQf02D",
      "execution_count": null,
      "outputs": []
    }
  ],
  "metadata": {
    "kernelspec": {
      "display_name": "Python 3 (ipykernel)",
      "language": "python",
      "name": "python3"
    },
    "language_info": {
      "codemirror_mode": {
        "name": "ipython",
        "version": 3
      },
      "file_extension": ".py",
      "mimetype": "text/x-python",
      "name": "python",
      "nbconvert_exporter": "python",
      "pygments_lexer": "ipython3",
      "version": "3.9.6"
    },
    "colab": {
      "provenance": [],
      "include_colab_link": true
    }
  },
  "nbformat": 4,
  "nbformat_minor": 5
}