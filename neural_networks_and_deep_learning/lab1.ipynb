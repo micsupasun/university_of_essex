{
  "nbformat": 4,
  "nbformat_minor": 0,
  "metadata": {
    "colab": {
      "provenance": [],
      "authorship_tag": "ABX9TyPabLxj2bm+S0bUUYFpKpBq",
      "include_colab_link": true
    },
    "kernelspec": {
      "name": "python3",
      "display_name": "Python 3"
    },
    "language_info": {
      "name": "python"
    }
  },
  "cells": [
    {
      "cell_type": "markdown",
      "metadata": {
        "id": "view-in-github",
        "colab_type": "text"
      },
      "source": [
        "<a href=\"https://colab.research.google.com/github/micsupasun/university_of_essex/blob/main/neural_networks_and_deep_learning/lab1.ipynb\" target=\"_parent\"><img src=\"https://colab.research.google.com/assets/colab-badge.svg\" alt=\"Open In Colab\"/></a>"
      ]
    },
    {
      "cell_type": "code",
      "execution_count": null,
      "metadata": {
        "colab": {
          "base_uri": "https://localhost:8080/"
        },
        "id": "jOTu9tj49drN",
        "outputId": "84cff499-5878-428e-a219-209592fd1912"
      },
      "outputs": [
        {
          "output_type": "stream",
          "name": "stdout",
          "text": [
            "2\n",
            "4\n",
            "2.0\n",
            "2\n"
          ]
        }
      ],
      "source": [
        "# Write one line code to implement arithmetic such as addition and multiplication \n",
        "print(1+1)\n",
        "print(2*2)\n",
        "print(6/3)\n",
        "print(8-6)"
      ]
    },
    {
      "cell_type": "code",
      "source": [
        "# Write a script with several lines to implement FOR loop\n",
        "# You may use the code to calculate the sum of 1, 2, 3, 4, 5, …., 100\n",
        "temp = 0\n",
        "for i in range(1,101):\n",
        "  temp += i\n",
        "print(\"sum of value =\",temp)\n"
      ],
      "metadata": {
        "id": "Rn8xb4-89zu0",
        "colab": {
          "base_uri": "https://localhost:8080/"
        },
        "outputId": "558bdfa5-f151-4fe9-f5a3-31f9cffa2efd"
      },
      "execution_count": null,
      "outputs": [
        {
          "output_type": "stream",
          "name": "stdout",
          "text": [
            "sum of value = 5050\n"
          ]
        }
      ]
    },
    {
      "cell_type": "code",
      "source": [
        "# Create a variable (int, str, list etc.) and assign a value to the variable you just created\n",
        "print(1,type(1))\n",
        "print(\"2\",type(\"2\"))\n",
        "print([3],type([3]))\n",
        "print({4},type({4}))"
      ],
      "metadata": {
        "id": "AIScRNnO98Ym",
        "colab": {
          "base_uri": "https://localhost:8080/"
        },
        "outputId": "b0c3cc06-c7e8-4e6b-ad75-7a6ea17252a5"
      },
      "execution_count": null,
      "outputs": [
        {
          "output_type": "stream",
          "name": "stdout",
          "text": [
            "1 <class 'int'>\n",
            "2 <class 'str'>\n",
            "[3] <class 'list'>\n",
            "{4} <class 'set'>\n"
          ]
        }
      ]
    },
    {
      "cell_type": "code",
      "source": [],
      "metadata": {
        "id": "SxEFYJ9JARrt"
      },
      "execution_count": null,
      "outputs": []
    }
  ]
}