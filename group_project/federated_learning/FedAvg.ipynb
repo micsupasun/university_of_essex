{
  "nbformat": 4,
  "nbformat_minor": 0,
  "metadata": {
    "colab": {
      "name": "FedAvg.ipynb",
      "provenance": [],
      "collapsed_sections": []
    },
    "kernelspec": {
      "name": "python3",
      "display_name": "Python 3"
    },
    "language_info": {
      "name": "python"
    }
  },
  "cells": [
    {
      "cell_type": "code",
      "source": [
        "def create_compiled_keras_model():\n",
        "        model = tf.keras.models.Sequential([\n",
        "            tf.keras.layers.Dense(\n",
        "                10, activation=tf.nn.softmax, kernel_initializer = 'zeros', input_shape = (784, \n",
        "                )\n",
        "            )\n",
        "        ])\n",
        "\n",
        "        model.compile(\n",
        "            loss=tf.keras.losses.SparseCategoricalCrossentropy(),\n",
        "            optimizer=tf.keras.optimizers.SGD(learning_rate=0.02),\n",
        "            metrics=[tf.keras.metrics.SparseCategoricalAccuracy()] \n",
        "\n",
        "        )\n",
        "    return model\n",
        "\n",
        " def model_fn():\n",
        "\n",
        "        keras_model = create_compiled_keras_model()\n",
        "\n",
        "        return tff.learning.from_compiled_keras_model(keras_model, sample_batch)\n",
        "\n",
        "state = train.initialize() \n",
        "\n",
        "    for _ in range (5):\n",
        "        state, metrics = train.next(state, train_data)\n",
        "        print (metrics.loss) \n",
        "\n",
        "\n",
        " eval = tff.learning.build_federated_evaluation(model_fn)\n",
        "    metrics = eval(state.model, test_data)\n",
        "\n",
        "\n",
        "\n",
        "    train_data, test_data = \n",
        "    tff.simulation.datasets.emnist.load_data()\n",
        "\n",
        "    def model_fn():\n",
        "\n",
        "        keras_model = create_keras_model()\n",
        "\n",
        "        return tff.learning.from_keras_model(keras_model, sample_batch)\n",
        "    \n",
        "    train = tff.learning.build_federated_averaging_process(model_fn)\n",
        "\n",
        "    state = train.initialize() \n",
        "\n",
        "    for _ in range (5):\n",
        "        state, metrics = train.next(state, train_data)\n",
        "        print (metrics.loss) \n",
        "\n",
        "    eval = tff.learning.build_federated_evaluation(model_fn)\n",
        "    metrics = eval(state.model, test_data)\n",
        "\n",
        "pip install tensorflow-federated --upgrade\n",
        "\n",
        "import tensorflow as tf\n",
        "import tensorflow_federated as tff\n",
        "\n",
        "emnist_train, emnist_test = tff.simulation.datasets.emnist.load_data()\n",
        "def client_data(n):\n",
        "  return emnist_train.create_tf_dataset_for_client(source.client_ids[n]).map(\n",
        "      lambda e: (tf.reshape(e['pixels'], [-1]), e['label'])\n",
        "  ).repeat(10).batch(20)\n",
        "\n",
        "train_data = [client_data(n) for n in range(3)]\n",
        "\n",
        "trainer = tff.learning.build_federated_averaging_process(\n",
        "  model_fn,\n",
        "  client_optimizer_fn=lambda: tf.keras.optimizers.SGD(0.1))\n",
        "state = trainer.initialize()\n",
        "for _ in range(50):\n",
        "  state, metrics = trainer.next(state, train_data)\n",
        "  print(metrics['train']['loss'])\n"
      ],
      "metadata": {
        "colab": {
          "base_uri": "https://localhost:8080/",
          "height": 134
        },
        "id": "V-YTaAG_9Owx",
        "outputId": "79d1a668-6d5e-44cb-caf0-6150facd5590"
      },
      "execution_count": 1,
      "outputs": [
        {
          "output_type": "error",
          "ename": "IndentationError",
          "evalue": "ignored",
          "traceback": [
            "\u001b[0;36m  File \u001b[0;32m\"<ipython-input-1-9d899676bb02>\"\u001b[0;36m, line \u001b[0;32m15\u001b[0m\n\u001b[0;31m    return model\u001b[0m\n\u001b[0m                ^\u001b[0m\n\u001b[0;31mIndentationError\u001b[0m\u001b[0;31m:\u001b[0m unindent does not match any outer indentation level\n"
          ]
        }
      ]
    },
    {
      "cell_type": "code",
      "source": [
        ""
      ],
      "metadata": {
        "id": "_bwwDUEL9Tdd"
      },
      "execution_count": null,
      "outputs": []
    }
  ]
}