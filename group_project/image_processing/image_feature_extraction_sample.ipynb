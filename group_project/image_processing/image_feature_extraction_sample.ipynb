{
  "nbformat": 4,
  "nbformat_minor": 0,
  "metadata": {
    "colab": {
      "name": "image_recognition_sample.ipynb",
      "provenance": []
    },
    "kernelspec": {
      "name": "python3",
      "display_name": "Python 3"
    },
    "language_info": {
      "name": "python"
    }
  },
  "cells": [
    {
      "cell_type": "code",
      "source": [
        "## https://www.analyticsvidhya.com/blog/2019/08/3-techniques-extract-features-from-image-data-machine-learning-python/"
      ],
      "metadata": {
        "id": "WOhBYsV-fE2I"
      },
      "execution_count": null,
      "outputs": []
    },
    {
      "cell_type": "markdown",
      "source": [
        "# 3 methods we can use to extract features from images using python"
      ],
      "metadata": {
        "id": "aKANHv7hRDRy"
      }
    },
    {
      "cell_type": "code",
      "source": [
        "##Method 1 Grayscale Pixel Values as Features\n",
        "##Method 2 Mean Pixel Value of Channels\n",
        "##Method 3 Extracting Edges"
      ],
      "metadata": {
        "id": "9ZQ_wseIRCzQ"
      },
      "execution_count": null,
      "outputs": []
    },
    {
      "cell_type": "code",
      "execution_count": null,
      "metadata": {
        "colab": {
          "base_uri": "https://localhost:8080/",
          "height": 314
        },
        "id": "HuY7-IrrYPcR",
        "outputId": "64f854f9-53c1-4c91-de3c-c1b27751312c"
      },
      "outputs": [
        {
          "output_type": "execute_result",
          "data": {
            "text/plain": [
              "<matplotlib.image.AxesImage at 0x7fb4fc6e5910>"
            ]
          },
          "metadata": {},
          "execution_count": 12
        },
        {
          "output_type": "display_data",
          "data": {
            "text/plain": [
              "<Figure size 432x288 with 1 Axes>"
            ],
            "image/png": "[encoded data removed]"
          },
          "metadata": {
            "needs_background": "light"
          }
        }
      ],
      "source": [
        "import pandas as pd\n",
        "import numpy as np\n",
        "import matplotlib.pyplot as plt\n",
        "%matplotlib inline\n",
        "from skimage.io import imread, imshow\n",
        "\n",
        "##Loading up an image. Black and white hence as_gray is set to true\n",
        "\n",
        "image = imread('image_8_original.PNG', as_gray=True)\n",
        "imshow(image)"
      ]
    },
    {
      "cell_type": "markdown",
      "source": [
        "**Implementing method 1:Grayscale Pixel Values as Features**"
      ],
      "metadata": {
        "id": "1MMUw7BoWa2Q"
      }
    },
    {
      "cell_type": "code",
      "source": [
        "#checking image shape and matrix\n",
        "image.shape, image"
      ],
      "metadata": {
        "id": "Y_kcwMUpgJmE",
        "colab": {
          "base_uri": "https://localhost:8080/"
        },
        "outputId": "52388727-fbe2-40de-bb03-1ee0d212291b"
      },
      "execution_count": null,
      "outputs": [
        {
          "output_type": "execute_result",
          "data": {
            "text/plain": [
              "((284, 208),\n",
              " array([[1.        , 1.        , 1.        , ..., 1.        , 1.        ,\n",
              "         1.        ],\n",
              "        [1.        , 1.        , 1.        , ..., 1.        , 1.        ,\n",
              "         1.        ],\n",
              "        [1.        , 1.        , 1.        , ..., 1.        , 1.        ,\n",
              "         1.        ],\n",
              "        ...,\n",
              "        [1.        , 1.        , 0.5254902 , ..., 0.09019608, 0.95686275,\n",
              "         0.99607843],\n",
              "        [1.        , 1.        , 0.5254902 , ..., 0.08235294, 0.95294118,\n",
              "         0.99607843],\n",
              "        [1.        , 1.        , 0.54901961, ..., 0.1372549 , 0.95294118,\n",
              "         0.99607843]]))"
            ]
          },
          "metadata": {},
          "execution_count": 13
        }
      ]
    },
    {
      "cell_type": "code",
      "source": [
        "#finally We append the pixel values one after the other to get a 1D array:\n",
        "'''\n",
        "The image shape here is 284 x 208. Hence, the number of features should be 59,072. \n",
        "We can generate this using the reshape function from NumPy where we specify the dimension of the image:\n",
        "'''\n",
        "\n",
        "features = np.reshape(image, (284*208))\n",
        "\n",
        "features.shape, features"
      ],
      "metadata": {
        "colab": {
          "base_uri": "https://localhost:8080/"
        },
        "id": "iKhRoIiJX5dm",
        "outputId": "cb1d9044-1841-44be-c714-a21d5b7c538c"
      },
      "execution_count": null,
      "outputs": [
        {
          "output_type": "execute_result",
          "data": {
            "text/plain": [
              "((59072,),\n",
              " array([1.        , 1.        , 1.        , ..., 0.1372549 , 0.95294118,\n",
              "        0.99607843]))"
            ]
          },
          "metadata": {},
          "execution_count": 14
        }
      ]
    },
    {
      "cell_type": "markdown",
      "source": [
        "**Implementing method 2:Mean Pixel Value of Channels**"
      ],
      "metadata": {
        "id": "SNpVuS2OZUiA"
      }
    },
    {
      "cell_type": "code",
      "source": [
        "##loading up a colored image \n",
        "image = imread('puppy.JPG') \n",
        "image.shape"
      ],
      "metadata": {
        "colab": {
          "base_uri": "https://localhost:8080/"
        },
        "id": "C24a1mDuZ3qW",
        "outputId": "89f548f8-5562-4d11-df59-1d883ba2c3e1"
      },
      "execution_count": 22,
      "outputs": [
        {
          "output_type": "execute_result",
          "data": {
            "text/plain": [
              "(285, 174, 3)"
            ]
          },
          "metadata": {},
          "execution_count": 22
        }
      ]
    },
    {
      "cell_type": "code",
      "source": [
        "'''Instead of using the pixel values from the three channels separately, \n",
        "we can generate a new matrix that has the mean value of pixels from all three channels\n",
        "\n",
        "By doing so, the number of features remains the same (284 X 174) \n",
        "1st create a new matrix with the same size 284 X 174, where all values are initialized to 0. \n",
        "This matrix will store the mean pixel values for the three channels:\n",
        "'''\n",
        "\n",
        "feature_matrix = np.zeros((285,174)) \n",
        "feature_matrix.shape"
      ],
      "metadata": {
        "colab": {
          "base_uri": "https://localhost:8080/"
        },
        "id": "dJbomhU_bQB_",
        "outputId": "af4cb3cb-d61b-4996-bd8e-b811389c7967"
      },
      "execution_count": 23,
      "outputs": [
        {
          "output_type": "execute_result",
          "data": {
            "text/plain": [
              "(285, 174)"
            ]
          },
          "metadata": {},
          "execution_count": 23
        }
      ]
    },
    {
      "cell_type": "code",
      "source": [
        "#next we get average pixel value\n",
        "for i in range(0,image.shape[0]):\n",
        "    for j in range(0,image.shape[1]):\n",
        "        feature_matrix[i][j] = ((int(image[i,j,0]) + int(image[i,j,1]) + int(image[i,j,2]))/3)"
      ],
      "metadata": {
        "id": "Dezd3q2ycfSN"
      },
      "execution_count": 24,
      "outputs": []
    },
    {
      "cell_type": "code",
      "source": [
        "#finally We append the pixel values one after the other to get a 1D array:\n",
        "features = np.reshape(feature_matrix, (285*174)) \n",
        "features.shape"
      ],
      "metadata": {
        "colab": {
          "base_uri": "https://localhost:8080/"
        },
        "id": "sZ1jLTb-eTmL",
        "outputId": "a00bd0e8-98a6-47fc-810b-b3f133d13949"
      },
      "execution_count": 26,
      "outputs": [
        {
          "output_type": "execute_result",
          "data": {
            "text/plain": [
              "(49590,)"
            ]
          },
          "metadata": {},
          "execution_count": 26
        }
      ]
    },
    {
      "cell_type": "markdown",
      "source": [
        "**Implementing method 3:Extracting Edge Features**\n",
        "\n"
      ],
      "metadata": {
        "id": "pvZfi4v_e1ko"
      }
    },
    {
      "cell_type": "code",
      "source": [
        "#importing the required libraries\n",
        "import numpy as np\n",
        "from skimage.io import imread, imshow\n",
        "from skimage.filters import prewitt_h,prewitt_v\n",
        "import matplotlib.pyplot as plt\n",
        "%matplotlib inline\n",
        "\n",
        "#reading the image \n",
        "image = imread('puppy.JPG',as_gray=True)\n",
        "\n",
        "#calculating horizontal edges using prewitt kernel\n",
        "edges_prewitt_horizontal = prewitt_h(image)\n",
        "\n",
        "#calculating vertical edges using prewitt kernel\n",
        "edges_prewitt_vertical = prewitt_v(image)\n",
        "\n",
        "imshow(edges_prewitt_vertical, cmap='gray')"
      ],
      "metadata": {
        "colab": {
          "base_uri": "https://localhost:8080/",
          "height": 314
        },
        "id": "YFuNhsxoglIg",
        "outputId": "29629bb8-fb5e-446d-b954-3006e3ad815a"
      },
      "execution_count": 27,
      "outputs": [
        {
          "output_type": "execute_result",
          "data": {
            "text/plain": [
              "<matplotlib.image.AxesImage at 0x7fb4eb9aa250>"
            ]
          },
          "metadata": {},
          "execution_count": 27
        },
        {
          "output_type": "display_data",
          "data": {
            "text/plain": [
              "<Figure size 432x288 with 2 Axes>"
            ],
            "image/png": "[encoded data removed]"
          },
          "metadata": {
            "needs_background": "light"
          }
        }
      ]
    }
  ]
}