{
  "nbformat": 4,
  "nbformat_minor": 0,
  "metadata": {
    "colab": {
      "provenance": [],
      "authorship_tag": "ABX9TyP1h3buQ1k69fsagnCWonjE",
      "include_colab_link": true
    },
    "kernelspec": {
      "name": "python3",
      "display_name": "Python 3"
    },
    "language_info": {
      "name": "python"
    }
  },
  "cells": [
    {
      "cell_type": "markdown",
      "metadata": {
        "id": "view-in-github",
        "colab_type": "text"
      },
      "source": [
        "<a href=\"https://colab.research.google.com/github/micsupasun/university_of_essex/blob/main/data_science_and_decision_making/lab1_numpy/lab1.ipynb\" target=\"_parent\"><img src=\"https://colab.research.google.com/assets/colab-badge.svg\" alt=\"Open In Colab\"/></a>"
      ]
    },
    {
      "cell_type": "markdown",
      "source": [
        "1.Write a function list_to_array that receives a list as a function and returns the list converted into a numpy array\n",
        "\n",
        "For example: print(list_to_array([1, 2, 3, 4, 5]))\n",
        "\n",
        "Test\tResult: [1 2 3 4 5]\n",
        "\n"
      ],
      "metadata": {
        "id": "FsWiBp18gb3y"
      }
    },
    {
      "cell_type": "code",
      "source": [
        "import numpy as np\n",
        "\n",
        "def list_to_array(myList):\n",
        "  return np.array(myList)\n",
        "\n",
        "print(list_to_array([1, 2, 3, 4, 5]))"
      ],
      "metadata": {
        "id": "xXSicnfSiqxg",
        "colab": {
          "base_uri": "https://localhost:8080/"
        },
        "outputId": "4d2b1455-a990-43a7-919e-e72f4922b09d"
      },
      "execution_count": null,
      "outputs": [
        {
          "output_type": "stream",
          "name": "stdout",
          "text": [
            "[1 2 3 4 5]\n"
          ]
        }
      ]
    },
    {
      "cell_type": "markdown",
      "source": [
        "2.Using numpy, write a function called 'median', which takes an array or list of numbers as input and calculates their median.\n",
        "\n",
        "For example:\n",
        "\n",
        "mark2 = [55,88,78,90,79,94, 3210]\n",
        "\n",
        "print('%.1f' % median(mark2))\n",
        "\n",
        "Test\tResult:\n",
        "88.0"
      ],
      "metadata": {
        "id": "GSdNCdQyge06"
      }
    },
    {
      "cell_type": "code",
      "source": [
        "import numpy as np\n",
        "\n",
        "def median(numbers):\n",
        "  return np.median(numbers)\n",
        "\n",
        "mark2 = [55,88,78,90,79,94, 3210]\n",
        "print('%.1f' % median(mark2))"
      ],
      "metadata": {
        "id": "p_Ig8TfQirIi",
        "colab": {
          "base_uri": "https://localhost:8080/"
        },
        "outputId": "0f85fc25-5e72-4ca1-bbbc-647d82d067b8"
      },
      "execution_count": null,
      "outputs": [
        {
          "output_type": "stream",
          "name": "stdout",
          "text": [
            "88.0\n"
          ]
        }
      ]
    },
    {
      "cell_type": "markdown",
      "source": [
        "3.Using numpy, write a function called 'percentile', which takes as input an array or list of numbers and a number between 0-100 (the percentile that the user wants to calculate) and returns the percentile.\n",
        "\n",
        "For example:\n",
        "\n",
        "mark2 = [55, 88, 78, 90, 79, 94, 3210]\n",
        "\n",
        "print('%.2f' % percentile(mark2, 40))\n",
        "\n",
        "Test\tResult: 82.60"
      ],
      "metadata": {
        "id": "K95bdCfZhAGI"
      }
    },
    {
      "cell_type": "code",
      "source": [
        "import numpy as np\n",
        "\n",
        "def percentile(numbers, perc):\n",
        "  return np.percentile(numbers, perc)\n",
        "\n",
        "mark2 = [55, 88, 78, 90, 79, 94, 3210]\n",
        "print('%.2f' % percentile(mark2, 40))"
      ],
      "metadata": {
        "id": "MizortgMiroj",
        "colab": {
          "base_uri": "https://localhost:8080/"
        },
        "outputId": "4eeeb689-58a6-407b-a92d-f692dabe0288"
      },
      "execution_count": null,
      "outputs": [
        {
          "output_type": "stream",
          "name": "stdout",
          "text": [
            "82.60\n"
          ]
        }
      ]
    },
    {
      "cell_type": "markdown",
      "source": [
        "4.Using numpy, write a function called 'sorting_choice', which takes as input an array or list of numbers and a string (which should be either 'asc' or 'desc' for ascending/descending) and returns the same numbers sorted in ascending/descending order. The default value if no string is provided should be 'asc'.\n",
        "\n",
        "For example:\n",
        "\n",
        "mark2 = [55, 88, 78, 90, 79, 94, 3210]\n",
        "\n",
        "print('%d' % sorting_choice(mark2, 'desc')[0])\n",
        "\n",
        "Test\tResult: 3210\n"
      ],
      "metadata": {
        "id": "bHKCuZP2hKKN"
      }
    },
    {
      "cell_type": "code",
      "source": [
        "import numpy as np\n",
        "\n",
        "def sorting_choice(myArray, order = \"asc\"):\n",
        "  if order == 'desc':\n",
        "    return np.sort(myArray)[::-1]\n",
        "  elif order == 'asc':\n",
        "    return np.sort(myArray)\n",
        "\n",
        "mark2 = [55, 88, 78, 90, 79, 94, 3210]\n",
        "print('%d' % sorting_choice(mark2, 'desc')[0])"
      ],
      "metadata": {
        "id": "4JN2SjUeisIO",
        "colab": {
          "base_uri": "https://localhost:8080/"
        },
        "outputId": "315d8b48-2cdd-4252-d2f8-9f702e6068c6"
      },
      "execution_count": null,
      "outputs": [
        {
          "output_type": "stream",
          "name": "stdout",
          "text": [
            "3210\n"
          ]
        }
      ]
    },
    {
      "cell_type": "markdown",
      "source": [
        "5.Using numpy, write a function called 'median_of_array_rows', which takes as input a 2D array of numbers and returns the row-wise medians of the array.\n",
        "\n",
        "For example:\n",
        "\n",
        "mark2 = np.asarray([55, 88, 78, 90, 79, 94]).reshape(2, -1)\n",
        "\n",
        "print('%d' % median_of_array_rows(mark2).shape[0])\n",
        "\n",
        "Test\tResult: 2"
      ],
      "metadata": {
        "id": "0pPRNitUhKNE"
      }
    },
    {
      "cell_type": "code",
      "source": [
        "def median_of_array_rows(numbers):\n",
        "  return np.median(numbers, axis=1)\n",
        "\n",
        "mark2 = np.asarray([55, 88, 78, 90, 79, 94]).reshape(2, -1)\n",
        "print('%d' % median_of_array_rows(mark2).shape[0])"
      ],
      "metadata": {
        "id": "87GOB4Tjissh",
        "colab": {
          "base_uri": "https://localhost:8080/"
        },
        "outputId": "b608cdce-5a0b-451c-b989-ecece8ded6d8"
      },
      "execution_count": null,
      "outputs": [
        {
          "output_type": "stream",
          "name": "stdout",
          "text": [
            "2\n"
          ]
        }
      ]
    },
    {
      "cell_type": "markdown",
      "source": [
        "6.Using numpy, write a function called 'stdev_of_array_columns', which takes as input a 2D array of numbers and returns the column-wise standard deviations of the array.\n",
        "\n",
        "For example:\n",
        "\n",
        "mark2 = np.asarray([55, 88, 78, 90, 79, 94]).reshape(2, -1)\n",
        "\n",
        "print('%d' % stdev_of_array_columns(mark2).shape[0])\n",
        "\n",
        "Test\tResult: 3"
      ],
      "metadata": {
        "id": "Wdp1aX7VhKQP"
      }
    },
    {
      "cell_type": "code",
      "source": [
        "def stdev_of_array_columns(numbers):\n",
        "  return np.std(numbers, axis=0)\n",
        "\n",
        "\n",
        "mark2 = np.asarray([55, 88, 78, 90, 79, 94]).reshape(2, -1)\n",
        "print('%d' % stdev_of_array_columns(mark2).shape[0])"
      ],
      "metadata": {
        "id": "IMJH0i3GitQV",
        "colab": {
          "base_uri": "https://localhost:8080/"
        },
        "outputId": "8a80771f-e475-4f8f-9a2a-e9237cccbef6"
      },
      "execution_count": null,
      "outputs": [
        {
          "output_type": "stream",
          "name": "stdout",
          "text": [
            "3\n"
          ]
        }
      ]
    },
    {
      "cell_type": "markdown",
      "source": [
        "7.We're going to use numpy to generate random numbers. Check the documentation for numpy.random.choice() to complete the functions below.\n",
        "\n",
        "NOTE: it's important that you pass the parameters to np.random.choice in order. For example, if the instructions say 'return A with probability A1 and B with probability B1', you should pass the arguments to np.random.choice as np.random.choice([A, B], p=[A1, B1]) to be marked correctly.\n",
        "\n",
        "For example:\n",
        "\n",
        "np.random.seed(4)\n",
        "\n",
        "print('%d, %d, %d, %d, %d, %d' % (action_0(), action_1(), action_2(), action_0(), action_1(), action_2()))\n",
        "\n",
        "Test\tResult: 0, 1, 0, 0, 0, 0"
      ],
      "metadata": {
        "id": "ZEt_43fOhKTr"
      }
    },
    {
      "cell_type": "code",
      "source": [
        "def action_0():\n",
        "  ''' This should return 1 with probability 50%, and 0 with probability 50%'''\n",
        "  return np.random.choice([1,0], p=[0.5, 0.5])\n",
        "def action_1():\n",
        "  ''' This should return 1 with probability 60%, and 0 with probability 40%'''\n",
        "  return np.random.choice([1,0], p=[0.6, 0.4])\n",
        "def action_2():\n",
        "  ''' This should return 1 with probability 20%, and 0 with probability 80%'''\n",
        "  return np.random.choice([1,0], p=[0.2, 0.8])\n",
        "\n",
        "print('%d, %d, %d, %d, %d, %d' % (action_0(), action_1(), action_2(), action_0(), action_1(), action_2()))"
      ],
      "metadata": {
        "id": "PQDFTMawitxi",
        "colab": {
          "base_uri": "https://localhost:8080/"
        },
        "outputId": "2bd51cdf-e949-49c7-f210-422d4237bc25"
      },
      "execution_count": null,
      "outputs": [
        {
          "output_type": "stream",
          "name": "stdout",
          "text": [
            "1, 1, 0, 0, 0, 0\n"
          ]
        }
      ]
    },
    {
      "cell_type": "markdown",
      "source": [
        "8.We're going to use numpy to generate random numbers. Check the documentation for numpy.random.choice() to complete the functions below.\n",
        "\n",
        "NOTE: it's important that you pass the parameters to np.random.choice in order. For example, if the instructions say 'return A with probability A1 and B with probability B1', you should pass the arguments to np.random.choice as np.random.choice([A, B], p=[A1, B1]) to be marked correctly.\n",
        "\n",
        "For example:\n",
        "\n",
        "np.random.seed(4)\n",
        "\n",
        "print('%d, %d, %d, %d, %d, %d' % (policy(), policy(), policy(), policy(), policy(), policy()))\n",
        "\n",
        "Test\tResult: 1, -1, 1, -1, -1, -1"
      ],
      "metadata": {
        "id": "yEz4APWuhKW4"
      }
    },
    {
      "cell_type": "code",
      "source": [
        "def policy():\n",
        "    ''' This should return -1 with probability 80%; 0 with probability 10%; or 1 with probability 10% '''\n",
        "    return np.random.choice([-1, 0, 1], p=[0.8, 0.1, 0.1])\n",
        "print('%d, %d, %d, %d, %d, %d' % (policy(), policy(), policy(), policy(), policy(), policy()))"
      ],
      "metadata": {
        "id": "XZElLFfYiuRN",
        "colab": {
          "base_uri": "https://localhost:8080/"
        },
        "outputId": "ac428213-4669-4000-9366-c94de748508f"
      },
      "execution_count": null,
      "outputs": [
        {
          "output_type": "stream",
          "name": "stdout",
          "text": [
            "1, -1, -1, -1, -1, -1\n"
          ]
        }
      ]
    },
    {
      "cell_type": "markdown",
      "source": [
        "9.We're going to use numpy to generate random numbers. Check the documentation for numpy.random.choice() to complete the functions below.\n",
        "\n",
        "NOTE: it's important that you pass the parameters to np.random.choice in order. For example, if the instructions say 'return A with probability A1 and B with probability B1', you should pass the arguments to np.random.choice as np.random.choice([A, B], p=[A1, B1]) to be marked correctly.\n",
        "\n",
        "For example:\n",
        "\n",
        "np.random.seed(4)\n",
        "\n",
        "Check default value for p1\n",
        "\n",
        "pulls = [action1() for _ in range(20000)]\n",
        "\n",
        "print('%.3f' % np.mean(pulls))\n",
        "\n",
        "Test\tResult: 0.794"
      ],
      "metadata": {
        "id": "QXW4_NRuhKZ5"
      }
    },
    {
      "cell_type": "code",
      "source": [
        "def policy(p1, p2, p3, p4 = 0.5):\n",
        "    # p1, p2, p3 are, respectively, the probabilities of choosing between 1, 2, and 3\n",
        "    # the default value for p4 should be 0.5\n",
        "    # action equals 1 with probability p1, 2 with probability p2, and 3 with probability p3\n",
        "    action = np.random.choice([1,2,3], p=[p1,p2,p3])\n",
        "    if action == 1:\n",
        "        return action1()\n",
        "    elif action == 2:\n",
        "        return action2()\n",
        "    elif action == 3:\n",
        "        action_again = np.random.choice([action1(),action2()], p=[p4,1-p4])\n",
        "        return action_again # Your code here\n",
        "    # Depending on the value of 'action', we choose one of the following options:\n",
        "    # if action is 1: return action1()\n",
        "    # if action is 2: return action2()\n",
        "    # if action is 3: return action1() with probability p4, and action2() otherwise\n",
        "\n",
        "    ## YOUR CODE HERE\n",
        "\n",
        "def action1(p=0.2):\n",
        "    # Return 0 with probability p and 1 otherwise\n",
        "    # the default value for p should be 0.2\n",
        "    return np.random.choice([0, 1], p=[p,1-p])\n",
        "    ## YOUR CODE HERE\n",
        "    \n",
        "\n",
        "def action2(p=0.9):\n",
        "    # Return 3 with probability p and -5 otherwise\n",
        "    # the default value for p should be 0.9\n",
        "    return np.random.choice([3, -5], p=[p,1-p])\n",
        "    ## YOUR CODE HERE\n",
        "\n",
        "pulls = [action1() for _ in range(20000)]\n",
        "\n",
        "print('%.3f' % np.mean(pulls))"
      ],
      "metadata": {
        "id": "RKUWNk1uiqDS",
        "colab": {
          "base_uri": "https://localhost:8080/"
        },
        "outputId": "6dc281fb-50b7-44f8-c582-2650cd2334a4"
      },
      "execution_count": null,
      "outputs": [
        {
          "output_type": "stream",
          "name": "stdout",
          "text": [
            "0.802\n"
          ]
        }
      ]
    },
    {
      "cell_type": "code",
      "source": [],
      "metadata": {
        "id": "vgsViZycyFNt"
      },
      "execution_count": null,
      "outputs": []
    }
  ]
}