{
  "cells": [
    {
      "cell_type": "markdown",
      "metadata": {
        "id": "view-in-github",
        "colab_type": "text"
      },
      "source": [
        "<a href=\"https://colab.research.google.com/github/micsupasun/university_of_essex/blob/main/data_science_and_decision_making/lab8_rnn_forcast/rnn.ipynb\" target=\"_parent\"><img src=\"https://colab.research.google.com/assets/colab-badge.svg\" alt=\"Open In Colab\"/></a>"
      ]
    },
    {
      "cell_type": "markdown",
      "source": [
        "# Learning from Sequences: Timeseries and Text\n",
        "\n",
        "Created by Dr Ana Matran-Fernandez (amatra@essex.ac.uk) for CE888 (Data Science and Decision Making)\n",
        "\n",
        "This notebook accompanies lecture 8 and illustrates recurrent neural networks on an example of a timeseries (predicting tomorrow's temperature) and a classification problem on the IMDB text dataset."
      ],
      "metadata": {
        "id": "gS1IIAS-bcb-"
      }
    },
    {
      "cell_type": "markdown",
      "source": [
        "# Imports"
      ],
      "metadata": {
        "id": "0myiQp20cxRK"
      }
    },
    {
      "cell_type": "code",
      "execution_count": null,
      "metadata": {
        "id": "1J0bYBQ7_a0L"
      },
      "outputs": [],
      "source": [
        "# imports\n",
        "import numpy as np\n",
        "import matplotlib.pyplot as plt\n",
        "import os\n",
        "import pandas as pd\n",
        "from sklearn.model_selection import train_test_split"
      ]
    },
    {
      "cell_type": "code",
      "execution_count": null,
      "metadata": {
        "id": "U0NPDv7X_a0M"
      },
      "outputs": [],
      "source": [
        "# tensorflow imports\n",
        "from tensorflow import keras\n",
        "from keras import layers, models\n",
        "from keras.callbacks import EarlyStopping, ModelCheckpoint"
      ]
    },
    {
      "cell_type": "markdown",
      "source": [
        "# Timeseries"
      ],
      "metadata": {
        "id": "xaiw_VZjbtSH"
      }
    },
    {
      "cell_type": "code",
      "source": [
        "from google.colab import drive\n",
        "drive.mount('/content/drive')"
      ],
      "metadata": {
        "colab": {
          "base_uri": "https://localhost:8080/"
        },
        "id": "1Zz-W_ttLiC1",
        "outputId": "d8d77b0c-9dc9-4ef9-8b0c-6d69d188317b"
      },
      "execution_count": null,
      "outputs": [
        {
          "output_type": "stream",
          "name": "stdout",
          "text": [
            "Drive already mounted at /content/drive; to attempt to forcibly remount, call drive.mount(\"/content/drive\", force_remount=True).\n"
          ]
        }
      ]
    },
    {
      "cell_type": "code",
      "execution_count": null,
      "metadata": {
        "colab": {
          "base_uri": "https://localhost:8080/",
          "height": 423
        },
        "id": "iA_R1Q-K_a0N",
        "outputId": "32decfc6-3c39-4a9e-f097-cb27503601f6"
      },
      "outputs": [
        {
          "output_type": "execute_result",
          "data": {
            "text/plain": [
              "                  date  radiation_avg  precip  wind_avg  wind_max  temp_avg  \\\n",
              "0     14/05/2014 00:00            159     0.0       1.4       3.3     14.27   \n",
              "1     15/05/2014 00:00            280     0.0       0.6       2.3     13.51   \n",
              "2     16/05/2014 00:00            186     3.4       0.8       2.7     15.65   \n",
              "3     17/05/2014 00:00            221     0.0       1.0       3.3     17.46   \n",
              "4     18/05/2014 00:00            255     0.0       2.1       5.5     16.85   \n",
              "...                ...            ...     ...       ...       ...       ...   \n",
              "2551  17/05/2021 00:00            196     1.4       2.2       5.5     10.51   \n",
              "2552  17/05/2021 00:00            173     2.8       1.8       5.5     10.80   \n",
              "2553  18/05/2021 00:00            311     0.0       1.4       5.0     10.29   \n",
              "2554  19/05/2021 00:00            232     6.6       1.8       5.5     11.39   \n",
              "2555  20/05/2021 00:00             44     0.0       0.5       2.7      6.35   \n",
              "\n",
              "      humidity_avg  \n",
              "0            64.95  \n",
              "1            72.91  \n",
              "2            74.69  \n",
              "3            71.42  \n",
              "4            74.45  \n",
              "...            ...  \n",
              "2551         99.86  \n",
              "2552         99.86  \n",
              "2553         92.94  \n",
              "2554         90.32  \n",
              "2555         99.86  \n",
              "\n",
              "[2556 rows x 7 columns]"
            ],
            "text/html": [
              "\n",
              "  <div id=\"df-1a39afec-4b1f-4e0e-9c54-80dbef8aea61\">\n",
              "    <div class=\"colab-df-container\">\n",
              "      <div>\n",
              "<style scoped>\n",
              "    .dataframe tbody tr th:only-of-type {\n",
              "        vertical-align: middle;\n",
              "    }\n",
              "\n",
              "    .dataframe tbody tr th {\n",
              "        vertical-align: top;\n",
              "    }\n",
              "\n",
              "    .dataframe thead th {\n",
              "        text-align: right;\n",
              "    }\n",
              "</style>\n",
              "<table border=\"1\" class=\"dataframe\">\n",
              "  <thead>\n",
              "    <tr style=\"text-align: right;\">\n",
              "      <th></th>\n",
              "      <th>date</th>\n",
              "      <th>radiation_avg</th>\n",
              "      <th>precip</th>\n",
              "      <th>wind_avg</th>\n",
              "      <th>wind_max</th>\n",
              "      <th>temp_avg</th>\n",
              "      <th>humidity_avg</th>\n",
              "    </tr>\n",
              "  </thead>\n",
              "  <tbody>\n",
              "    <tr>\n",
              "      <th>0</th>\n",
              "      <td>14/05/2014 00:00</td>\n",
              "      <td>159</td>\n",
              "      <td>0.0</td>\n",
              "      <td>1.4</td>\n",
              "      <td>3.3</td>\n",
              "      <td>14.27</td>\n",
              "      <td>64.95</td>\n",
              "    </tr>\n",
              "    <tr>\n",
              "      <th>1</th>\n",
              "      <td>15/05/2014 00:00</td>\n",
              "      <td>280</td>\n",
              "      <td>0.0</td>\n",
              "      <td>0.6</td>\n",
              "      <td>2.3</td>\n",
              "      <td>13.51</td>\n",
              "      <td>72.91</td>\n",
              "    </tr>\n",
              "    <tr>\n",
              "      <th>2</th>\n",
              "      <td>16/05/2014 00:00</td>\n",
              "      <td>186</td>\n",
              "      <td>3.4</td>\n",
              "      <td>0.8</td>\n",
              "      <td>2.7</td>\n",
              "      <td>15.65</td>\n",
              "      <td>74.69</td>\n",
              "    </tr>\n",
              "    <tr>\n",
              "      <th>3</th>\n",
              "      <td>17/05/2014 00:00</td>\n",
              "      <td>221</td>\n",
              "      <td>0.0</td>\n",
              "      <td>1.0</td>\n",
              "      <td>3.3</td>\n",
              "      <td>17.46</td>\n",
              "      <td>71.42</td>\n",
              "    </tr>\n",
              "    <tr>\n",
              "      <th>4</th>\n",
              "      <td>18/05/2014 00:00</td>\n",
              "      <td>255</td>\n",
              "      <td>0.0</td>\n",
              "      <td>2.1</td>\n",
              "      <td>5.5</td>\n",
              "      <td>16.85</td>\n",
              "      <td>74.45</td>\n",
              "    </tr>\n",
              "    <tr>\n",
              "      <th>...</th>\n",
              "      <td>...</td>\n",
              "      <td>...</td>\n",
              "      <td>...</td>\n",
              "      <td>...</td>\n",
              "      <td>...</td>\n",
              "      <td>...</td>\n",
              "      <td>...</td>\n",
              "    </tr>\n",
              "    <tr>\n",
              "      <th>2551</th>\n",
              "      <td>17/05/2021 00:00</td>\n",
              "      <td>196</td>\n",
              "      <td>1.4</td>\n",
              "      <td>2.2</td>\n",
              "      <td>5.5</td>\n",
              "      <td>10.51</td>\n",
              "      <td>99.86</td>\n",
              "    </tr>\n",
              "    <tr>\n",
              "      <th>2552</th>\n",
              "      <td>17/05/2021 00:00</td>\n",
              "      <td>173</td>\n",
              "      <td>2.8</td>\n",
              "      <td>1.8</td>\n",
              "      <td>5.5</td>\n",
              "      <td>10.80</td>\n",
              "      <td>99.86</td>\n",
              "    </tr>\n",
              "    <tr>\n",
              "      <th>2553</th>\n",
              "      <td>18/05/2021 00:00</td>\n",
              "      <td>311</td>\n",
              "      <td>0.0</td>\n",
              "      <td>1.4</td>\n",
              "      <td>5.0</td>\n",
              "      <td>10.29</td>\n",
              "      <td>92.94</td>\n",
              "    </tr>\n",
              "    <tr>\n",
              "      <th>2554</th>\n",
              "      <td>19/05/2021 00:00</td>\n",
              "      <td>232</td>\n",
              "      <td>6.6</td>\n",
              "      <td>1.8</td>\n",
              "      <td>5.5</td>\n",
              "      <td>11.39</td>\n",
              "      <td>90.32</td>\n",
              "    </tr>\n",
              "    <tr>\n",
              "      <th>2555</th>\n",
              "      <td>20/05/2021 00:00</td>\n",
              "      <td>44</td>\n",
              "      <td>0.0</td>\n",
              "      <td>0.5</td>\n",
              "      <td>2.7</td>\n",
              "      <td>6.35</td>\n",
              "      <td>99.86</td>\n",
              "    </tr>\n",
              "  </tbody>\n",
              "</table>\n",
              "<p>2556 rows × 7 columns</p>\n",
              "</div>\n",
              "      <button class=\"colab-df-convert\" onclick=\"convertToInteractive('df-1a39afec-4b1f-4e0e-9c54-80dbef8aea61')\"\n",
              "              title=\"Convert this dataframe to an interactive table.\"\n",
              "              style=\"display:none;\">\n",
              "        \n",
              "  <svg xmlns=\"http://www.w3.org/2000/svg\" height=\"24px\"viewBox=\"0 0 24 24\"\n",
              "       width=\"24px\">\n",
              "    <path d=\"M0 0h24v24H0V0z\" fill=\"none\"/>\n",
              "    <path d=\"M18.56 5.44l.94 2.06.94-2.06 2.06-.94-2.06-.94-.94-2.06-.94 2.06-2.06.94zm-11 1L8.5 8.5l.94-2.06 2.06-.94-2.06-.94L8.5 2.5l-.94 2.06-2.06.94zm10 10l.94 2.06.94-2.06 2.06-.94-2.06-.94-.94-2.06-.94 2.06-2.06.94z\"/><path d=\"M17.41 7.96l-1.37-1.37c-.4-.4-.92-.59-1.43-.59-.52 0-1.04.2-1.43.59L10.3 9.45l-7.72 7.72c-.78.78-.78 2.05 0 2.83L4 21.41c.39.39.9.59 1.41.59.51 0 1.02-.2 1.41-.59l7.78-7.78 2.81-2.81c.8-.78.8-2.07 0-2.86zM5.41 20L4 18.59l7.72-7.72 1.47 1.35L5.41 20z\"/>\n",
              "  </svg>\n",
              "      </button>\n",
              "      \n",
              "  <style>\n",
              "    .colab-df-container {\n",
              "      display:flex;\n",
              "      flex-wrap:wrap;\n",
              "      gap: 12px;\n",
              "    }\n",
              "\n",
              "    .colab-df-convert {\n",
              "      background-color: #E8F0FE;\n",
              "      border: none;\n",
              "      border-radius: 50%;\n",
              "      cursor: pointer;\n",
              "      display: none;\n",
              "      fill: #1967D2;\n",
              "      height: 32px;\n",
              "      padding: 0 0 0 0;\n",
              "      width: 32px;\n",
              "    }\n",
              "\n",
              "    .colab-df-convert:hover {\n",
              "      background-color: #E2EBFA;\n",
              "      box-shadow: 0px 1px 2px rgba(60, 64, 67, 0.3), 0px 1px 3px 1px rgba(60, 64, 67, 0.15);\n",
              "      fill: #174EA6;\n",
              "    }\n",
              "\n",
              "    [theme=dark] .colab-df-convert {\n",
              "      background-color: #3B4455;\n",
              "      fill: #D2E3FC;\n",
              "    }\n",
              "\n",
              "    [theme=dark] .colab-df-convert:hover {\n",
              "      background-color: #434B5C;\n",
              "      box-shadow: 0px 1px 3px 1px rgba(0, 0, 0, 0.15);\n",
              "      filter: drop-shadow(0px 1px 2px rgba(0, 0, 0, 0.3));\n",
              "      fill: #FFFFFF;\n",
              "    }\n",
              "  </style>\n",
              "\n",
              "      <script>\n",
              "        const buttonEl =\n",
              "          document.querySelector('#df-1a39afec-4b1f-4e0e-9c54-80dbef8aea61 button.colab-df-convert');\n",
              "        buttonEl.style.display =\n",
              "          google.colab.kernel.accessAllowed ? 'block' : 'none';\n",
              "\n",
              "        async function convertToInteractive(key) {\n",
              "          const element = document.querySelector('#df-1a39afec-4b1f-4e0e-9c54-80dbef8aea61');\n",
              "          const dataTable =\n",
              "            await google.colab.kernel.invokeFunction('convertToInteractive',\n",
              "                                                     [key], {});\n",
              "          if (!dataTable) return;\n",
              "\n",
              "          const docLinkHtml = 'Like what you see? Visit the ' +\n",
              "            '<a target=\"_blank\" href=https://colab.research.google.com/notebooks/data_table.ipynb>data table notebook</a>'\n",
              "            + ' to learn more about interactive tables.';\n",
              "          element.innerHTML = '';\n",
              "          dataTable['output_type'] = 'display_data';\n",
              "          await google.colab.output.renderOutput(dataTable, element);\n",
              "          const docLink = document.createElement('div');\n",
              "          docLink.innerHTML = docLinkHtml;\n",
              "          element.appendChild(docLink);\n",
              "        }\n",
              "      </script>\n",
              "    </div>\n",
              "  </div>\n",
              "  "
            ]
          },
          "metadata": {},
          "execution_count": 8
        }
      ],
      "source": [
        "df = pd.read_csv('/content/drive/MyDrive/essex_university/data_science_and_making_data_decition/lab8_rnn_forcast/weather.csv')\n",
        "df.drop(['temp_max', 'temp_min'], axis=1, inplace=True)\n",
        "df"
      ]
    },
    {
      "cell_type": "code",
      "execution_count": null,
      "metadata": {
        "colab": {
          "base_uri": "https://localhost:8080/",
          "height": 279
        },
        "id": "nzsytNAh_a0N",
        "outputId": "70ae4a85-05d5-4575-a0d7-84e9da7b3a47"
      },
      "outputs": [
        {
          "output_type": "display_data",
          "data": {
            "text/plain": [
              "<Figure size 432x288 with 1 Axes>"
            ],
            "image/png": "[encoded data removed]"
          },
          "metadata": {
            "needs_background": "light"
          }
        }
      ],
      "source": [
        "plt.plot(range(len(df)), df['temp_avg'])\n",
        "plt.xlabel('Temporal range')\n",
        "plt.ylabel('Average temperature (C) (7 years)')\n",
        "plt.savefig('temperature_over_time.pdf', bbox_inches='tight')"
      ]
    },
    {
      "cell_type": "code",
      "execution_count": null,
      "metadata": {
        "colab": {
          "base_uri": "https://localhost:8080/",
          "height": 279
        },
        "id": "ysbM2n99_a0N",
        "outputId": "2cb66a29-2d3d-4009-a884-18aa13efc7ee"
      },
      "outputs": [
        {
          "output_type": "display_data",
          "data": {
            "text/plain": [
              "<Figure size 432x288 with 1 Axes>"
            ],
            "image/png": "[encoded data removed]"
          },
          "metadata": {
            "needs_background": "light"
          }
        }
      ],
      "source": [
        "# Look at the first 2 years\n",
        "length = 2*365\n",
        "plt.plot(range(length), df['temp_avg'][:length])\n",
        "plt.xlabel('Temporal range')\n",
        "plt.ylabel('Average temperature (C) (2 years)')\n",
        "plt.savefig('temperature_over_time_2y.pdf', bbox_inches='tight')"
      ]
    },
    {
      "cell_type": "markdown",
      "metadata": {
        "id": "ikyqi2m7_a0O"
      },
      "source": [
        "We have clear periodicity every year. In the previous plot we saw 7 cycles (7 years). Here we see 2.\n",
        "\n",
        "Always look for periodicity in your timeseries. There will always be daily and yearly cycles. Check these patterns.\n",
        "\n",
        "Another issue with timeseries is dividing the dataset into train/validation/test sets. We definitely cannot shuffle the data, and we need to be very careful with data leakage (using data from the future)."
      ]
    },
    {
      "cell_type": "markdown",
      "metadata": {
        "id": "1fxuW2ne_a0P"
      },
      "source": [
        "## Data prep\n",
        "\n",
        "We'll try to predict the average temperature of tomorrow based on data from the past.\n",
        "\n",
        "To avoid data leakage, we're going to use a simple approach: use the first 50% of data for training, the next 30% for validation, and the final 20% for testing.\n"
      ]
    },
    {
      "cell_type": "code",
      "execution_count": null,
      "metadata": {
        "colab": {
          "base_uri": "https://localhost:8080/"
        },
        "id": "vofGsYen_a0P",
        "outputId": "53c37ccc-1a4d-4e23-da74-d7687568a8b0"
      },
      "outputs": [
        {
          "output_type": "stream",
          "name": "stdout",
          "text": [
            "Samples for training: 1278; validation: 766; test: 512\n"
          ]
        }
      ],
      "source": [
        "n_tr, n_val = int(0.5*len(df)), int(0.3*len(df))\n",
        "n_te = len(df) - n_tr - n_val\n",
        "print('Samples for training: %d; validation: %d; test: %d' % (n_tr, n_val, n_te))"
      ]
    },
    {
      "cell_type": "code",
      "execution_count": null,
      "metadata": {
        "colab": {
          "base_uri": "https://localhost:8080/"
        },
        "id": "lsMDT2Jq_a0P",
        "outputId": "079c0b2a-dcd6-4e37-ea74-deec16ebf483"
      },
      "outputs": [
        {
          "output_type": "stream",
          "name": "stdout",
          "text": [
            "(2556, 6)\n"
          ]
        }
      ],
      "source": [
        "# Get the data from the dataframe (dropping date column)\n",
        "data = df.iloc[:, 1:].values\n",
        "print(data.shape)\n",
        "assert data.shape[0] == len(df)\n",
        "assert data.shape[1] == len(df.columns)-1, \"Are you sure you're dropping the date?\"\n",
        "# We need to normalise our time series. Calculate mean and std from TRAINING DATA ONLY. \n",
        "# We'll use it on the validation and test sets.\n",
        "mean_tr = data[:n_tr, :].mean(axis=0)\n",
        "std_tr = data[:n_tr, :].std(axis=0)\n",
        "data = (data - mean_tr) / std_tr\n",
        "\n",
        "\n",
        "y = df['temp_avg'].values.reshape(-1, 1)\n",
        "\n",
        "# index of the column that contains the avg_temp\n",
        "y_idx = 4"
      ]
    },
    {
      "cell_type": "code",
      "source": [
        "data[:20, y_idx] * std_tr[y_idx] + mean_tr[y_idx]"
      ],
      "metadata": {
        "colab": {
          "base_uri": "https://localhost:8080/"
        },
        "id": "1VJAcdfICLi1",
        "outputId": "5b3596d6-0883-4de5-c77c-41774b52a9b8"
      },
      "execution_count": null,
      "outputs": [
        {
          "output_type": "execute_result",
          "data": {
            "text/plain": [
              "array([14.27, 13.51, 15.65, 17.46, 16.85, 18.26, 17.35, 15.55, 14.52,\n",
              "       13.93, 11.48, 13.63, 12.81, 12.4 , 13.67, 14.15, 13.22, 12.21,\n",
              "       15.53, 14.52])"
            ]
          },
          "metadata": {},
          "execution_count": 13
        }
      ]
    },
    {
      "cell_type": "code",
      "source": [
        "y[5:25]"
      ],
      "metadata": {
        "colab": {
          "base_uri": "https://localhost:8080/"
        },
        "id": "xN-YJyEeCUv9",
        "outputId": "ba982106-5ca9-4659-ecbf-3be31db5035f"
      },
      "execution_count": null,
      "outputs": [
        {
          "output_type": "execute_result",
          "data": {
            "text/plain": [
              "array([[18.26],\n",
              "       [17.35],\n",
              "       [15.55],\n",
              "       [14.52],\n",
              "       [13.93],\n",
              "       [11.48],\n",
              "       [13.63],\n",
              "       [12.81],\n",
              "       [12.4 ],\n",
              "       [13.67],\n",
              "       [14.15],\n",
              "       [13.22],\n",
              "       [12.21],\n",
              "       [15.53],\n",
              "       [14.52],\n",
              "       [15.35],\n",
              "       [12.29],\n",
              "       [13.88],\n",
              "       [15.13],\n",
              "       [17.29]])"
            ]
          },
          "metadata": {},
          "execution_count": 14
        }
      ]
    },
    {
      "cell_type": "code",
      "execution_count": null,
      "metadata": {
        "id": "K_JGeiAs_a0Q"
      },
      "outputs": [],
      "source": [
        "# We'll use a Dataset from keras to pass our data\n",
        "sampling_rate = 1  # we keep all data points\n",
        "sequence_length = 14  # 2 weeks to predict tomorrow's temperature\n",
        "delay = sampling_rate * sequence_length  # the target is the day after the end of the sequence\n",
        "batch_size = 16"
      ]
    },
    {
      "cell_type": "code",
      "execution_count": null,
      "metadata": {
        "colab": {
          "base_uri": "https://localhost:8080/"
        },
        "id": "cRDGWNYl_a0Q",
        "outputId": "41ab53cf-2338-4592-f4c9-7699b9603f5e"
      },
      "outputs": [
        {
          "output_type": "stream",
          "name": "stdout",
          "text": [
            "X shape: (16, 14, 6)\n",
            "target shape: (16, 1)\n"
          ]
        }
      ],
      "source": [
        "train_dataset = keras.utils.timeseries_dataset_from_array(\n",
        "    data[:-delay],\n",
        "    targets=y[delay:],\n",
        "    sampling_rate=sampling_rate, sequence_length=sequence_length,\n",
        "    batch_size=batch_size,\n",
        "    start_index=0, end_index=n_tr  # first 50% for training\n",
        "    )\n",
        "\n",
        "val_dataset = keras.utils.timeseries_dataset_from_array(\n",
        "    data[:-delay],\n",
        "    targets=y[delay:],\n",
        "    sampling_rate=sampling_rate, sequence_length=sequence_length,\n",
        "    batch_size=batch_size,\n",
        "    start_index=n_tr, end_index=n_tr+n_val  # 50%-80% for validation\n",
        "    )\n",
        "\n",
        "test_dataset = keras.utils.timeseries_dataset_from_array(\n",
        "    data[:-delay],\n",
        "    targets=y[delay:],\n",
        "    sampling_rate=sampling_rate, sequence_length=sequence_length,\n",
        "    batch_size=batch_size,\n",
        "    start_index=n_tr+n_val  # last 20% for test\n",
        "    )\n",
        "\n",
        "for X, target in train_dataset:\n",
        "    print(\"X shape:\", X.shape)\n",
        "    print(\"target shape:\", target.shape)\n",
        "    #print(X[:, :, y_idx] * std_tr[y_idx] + mean_tr[y_idx])\n",
        "    #print(target)\n",
        "    break  # so we only print once"
      ]
    },
    {
      "cell_type": "code",
      "source": [
        "# Function to plot history with neural networks\n",
        "def plot_hist_regression(hist, y):\n",
        "  n_ = len(hist.history['mae'])\n",
        "  plt.plot(range(1, n_+1), np.asarray(hist.history['mae']), 'bo', label='MAE on training set')\n",
        "  plt.plot(range(1, n_+1), np.asarray(hist.history['val_mae']), 'b', label='MAE on validation set')\n",
        "  plt.legend()\n",
        "  plt.xlabel(\"Epoch\") \n",
        "  plt.ylabel(\"MAE (degrees)\")\n",
        "  plt.axhline(y=y)\n",
        "  plt.show()\n"
      ],
      "metadata": {
        "id": "u_v2rAW_W4kQ"
      },
      "execution_count": null,
      "outputs": []
    },
    {
      "cell_type": "markdown",
      "metadata": {
        "id": "WlhjIvZR_a0Q"
      },
      "source": [
        "## Establishing a baseline\n"
      ]
    },
    {
      "cell_type": "markdown",
      "source": [
        "### Common sense, no ML baseline\n",
        "\n",
        "- Sanity check\n",
        "- To establish whether ML methods are actually any good\n",
        "\n",
        "Tomorrow's temperature is likely to be close to today's: let's predict that the temperature 24 hours from now will be equal to the temperature right now.\n",
        "\n",
        "We'll use the MAE as metric"
      ],
      "metadata": {
        "id": "rloJamyvWPWj"
      }
    },
    {
      "cell_type": "code",
      "execution_count": null,
      "metadata": {
        "colab": {
          "base_uri": "https://localhost:8080/"
        },
        "id": "MUY5acIf_a0Q",
        "outputId": "d9db9db1-5269-4ac5-939c-ce4c11eae808"
      },
      "outputs": [
        {
          "output_type": "stream",
          "name": "stdout",
          "text": [
            "MAE on train set = 2.56 (degrees Celsius)\n",
            "MAE on validation set = 2.69 (degrees Celsius)\n",
            "MAE on test set = 2.85 (degrees Celsius)\n"
          ]
        }
      ],
      "source": [
        "def naive_method(dataset, mean, std):\n",
        "    error = 0\n",
        "    samples = 0\n",
        "    count = 0\n",
        "    for X, target in dataset:\n",
        "        pred = X[:, -1, y_idx] * std + mean  # predict last available temperature and un-standardise\n",
        "        #print(X.shape, target.shape, pred.shape)  # [batch_size, sequence_length, n_feats]\n",
        "        #print(X[:, -1, y_idx] * std + mean, target)\n",
        "        error += np.sum(np.abs(pred - target))\n",
        "        samples += X.shape[0]  # batch_size\n",
        "        count += 1\n",
        "    return error / samples / batch_size # average\n",
        "\n",
        "\n",
        "print('MAE on train set = %.2f (degrees Celsius)' % naive_method(train_dataset, mean_tr[y_idx], std_tr[y_idx]))\n",
        "print('MAE on validation set = %.2f (degrees Celsius)' % naive_method(val_dataset, mean_tr[y_idx], std_tr[y_idx]))\n",
        "print('MAE on test set = %.2f (degrees Celsius)' % naive_method(test_dataset, mean_tr[y_idx], std_tr[y_idx]))\n",
        "# Save MAE on validation for later\n",
        "baseline = naive_method(val_dataset, mean_tr[y_idx], std_tr[y_idx])"
      ]
    },
    {
      "cell_type": "markdown",
      "source": [
        "This baseline achieves a validation MAE of 2.69 degrees and a test MAE of 2.85 degrees. So if we assume that tomorrow's temperature will be the same as today's, we'll be off by less than 3 degrees on average.\n",
        "\n",
        "Not too bad, but surely we can do better!"
      ],
      "metadata": {
        "id": "znycUtxiJmAF"
      }
    },
    {
      "cell_type": "markdown",
      "metadata": {
        "id": "7c-duA1Z_a0R"
      },
      "source": [
        "### Simple ML baseline\n",
        "\n",
        "\n"
      ]
    },
    {
      "cell_type": "code",
      "source": [
        "# To get some practice with neural networks, we'll try a 1-layer NN with nothing fancy.\n",
        "\n",
        "model_dense = models.Sequential()\n",
        "model_dense.add(layers.Flatten(input_shape=(sequence_length, len(df.columns)-1)))  # we need to specify the input shape or we won't be able to see the summary\n",
        "model_dense.add(layers.Dense(10, activation='relu'))\n",
        "model_dense.add(layers.Dense(1))\n",
        "\n",
        "model_dense.summary()"
      ],
      "metadata": {
        "colab": {
          "base_uri": "https://localhost:8080/"
        },
        "id": "fWGqpICHJlRe",
        "outputId": "117d5fc4-c508-489e-f0fb-c6019a34fac0"
      },
      "execution_count": null,
      "outputs": [
        {
          "output_type": "stream",
          "name": "stdout",
          "text": [
            "Model: \"sequential\"\n",
            "_________________________________________________________________\n",
            " Layer (type)                Output Shape              Param #   \n",
            "=================================================================\n",
            " flatten (Flatten)           (None, 84)                0         \n",
            "                                                                 \n",
            " dense (Dense)               (None, 10)                850       \n",
            "                                                                 \n",
            " dense_1 (Dense)             (None, 1)                 11        \n",
            "                                                                 \n",
            "=================================================================\n",
            "Total params: 861\n",
            "Trainable params: 861\n",
            "Non-trainable params: 0\n",
            "_________________________________________________________________\n"
          ]
        }
      ]
    },
    {
      "cell_type": "code",
      "source": [
        "n_epochs = 20\n",
        "\n",
        "model_dense.compile(optimizer='rmsprop', loss='mse', metrics=['mae'])\n",
        "history_dense = model_dense.fit(train_dataset, epochs=n_epochs, validation_data=val_dataset)"
      ],
      "metadata": {
        "colab": {
          "base_uri": "https://localhost:8080/"
        },
        "id": "p0Hz1rX8LMfT",
        "outputId": "ab674689-6d47-4a65-9f58-7d4fb7bffda2"
      },
      "execution_count": null,
      "outputs": [
        {
          "output_type": "stream",
          "name": "stdout",
          "text": [
            "Epoch 1/20\n",
            "80/80 [==============================] - 2s 11ms/step - loss: 120.4711 - mae: 9.9829 - val_loss: 101.5226 - val_mae: 9.1942\n",
            "Epoch 2/20\n",
            "80/80 [==============================] - 1s 8ms/step - loss: 82.1932 - mae: 8.2065 - val_loss: 69.9751 - val_mae: 7.4940\n",
            "Epoch 3/20\n",
            "80/80 [==============================] - 1s 8ms/step - loss: 55.2490 - mae: 6.4852 - val_loss: 51.6193 - val_mae: 6.2042\n",
            "Epoch 4/20\n",
            "80/80 [==============================] - 1s 9ms/step - loss: 43.5830 - mae: 5.5460 - val_loss: 43.6071 - val_mae: 5.6002\n",
            "Epoch 5/20\n",
            "80/80 [==============================] - 1s 7ms/step - loss: 38.0979 - mae: 5.1141 - val_loss: 38.2351 - val_mae: 5.1292\n",
            "Epoch 6/20\n",
            "80/80 [==============================] - 1s 7ms/step - loss: 33.8314 - mae: 4.7839 - val_loss: 34.0939 - val_mae: 4.7674\n",
            "Epoch 7/20\n",
            "80/80 [==============================] - 1s 7ms/step - loss: 30.5186 - mae: 4.5270 - val_loss: 31.2621 - val_mae: 4.5158\n",
            "Epoch 8/20\n",
            "80/80 [==============================] - 1s 7ms/step - loss: 28.1160 - mae: 4.3324 - val_loss: 29.3746 - val_mae: 4.3528\n",
            "Epoch 9/20\n",
            "80/80 [==============================] - 1s 7ms/step - loss: 26.2920 - mae: 4.1872 - val_loss: 27.9227 - val_mae: 4.2426\n",
            "Epoch 10/20\n",
            "80/80 [==============================] - 1s 9ms/step - loss: 24.7499 - mae: 4.0650 - val_loss: 26.5723 - val_mae: 4.1391\n",
            "Epoch 11/20\n",
            "80/80 [==============================] - 1s 9ms/step - loss: 23.3216 - mae: 3.9516 - val_loss: 25.2214 - val_mae: 4.0335\n",
            "Epoch 12/20\n",
            "80/80 [==============================] - 1s 7ms/step - loss: 21.9472 - mae: 3.8357 - val_loss: 23.8507 - val_mae: 3.9199\n",
            "Epoch 13/20\n",
            "80/80 [==============================] - 1s 7ms/step - loss: 20.6002 - mae: 3.7163 - val_loss: 22.4694 - val_mae: 3.8002\n",
            "Epoch 14/20\n",
            "80/80 [==============================] - 1s 9ms/step - loss: 19.2754 - mae: 3.5959 - val_loss: 21.1066 - val_mae: 3.6802\n",
            "Epoch 15/20\n",
            "80/80 [==============================] - 1s 7ms/step - loss: 17.9940 - mae: 3.4754 - val_loss: 19.7864 - val_mae: 3.5601\n",
            "Epoch 16/20\n",
            "80/80 [==============================] - 1s 9ms/step - loss: 16.7447 - mae: 3.3509 - val_loss: 18.5321 - val_mae: 3.4462\n",
            "Epoch 17/20\n",
            "80/80 [==============================] - 1s 9ms/step - loss: 15.6255 - mae: 3.2353 - val_loss: 17.3789 - val_mae: 3.3382\n",
            "Epoch 18/20\n",
            "80/80 [==============================] - 1s 8ms/step - loss: 14.6335 - mae: 3.1297 - val_loss: 16.3404 - val_mae: 3.2404\n",
            "Epoch 19/20\n",
            "80/80 [==============================] - 1s 9ms/step - loss: 13.7840 - mae: 3.0341 - val_loss: 15.4475 - val_mae: 3.1551\n",
            "Epoch 20/20\n",
            "80/80 [==============================] - 1s 9ms/step - loss: 13.0690 - mae: 2.9497 - val_loss: 14.6600 - val_mae: 3.0773\n"
          ]
        }
      ]
    },
    {
      "cell_type": "code",
      "source": [
        "# Plot MAE cures for validation and training\n",
        "plot_hist_regression(history_dense, baseline)"
      ],
      "metadata": {
        "colab": {
          "base_uri": "https://localhost:8080/",
          "height": 279
        },
        "id": "aBRYn-AKMCi4",
        "outputId": "212e1e21-87ed-4c62-a6ae-e311a873bec4"
      },
      "execution_count": null,
      "outputs": [
        {
          "output_type": "display_data",
          "data": {
            "text/plain": [
              "<Figure size 432x288 with 1 Axes>"
            ],
            "image/png": "[encoded data removed]"
          },
          "metadata": {
            "needs_background": "light"
          }
        }
      ]
    },
    {
      "cell_type": "markdown",
      "source": [
        "Validation loss is worse than what we had with our common-sense baseline, and we're already overfitting (MAE on training set is lower than on validation set). It turns out our previous baseline is not as easy to outperform as we thought!\n",
        "\n",
        "Remember our 'hypothesis space'? Using 2 Dense layers doesn't seem to be very useful in this case. We need other types of layers for this problem."
      ],
      "metadata": {
        "id": "1EJywOA5NJa9"
      }
    },
    {
      "cell_type": "code",
      "source": [
        "# We know that CNNs take advantage of neighbouring values, so why don't we try that?\n",
        "\n",
        "# In addition to the Conv2D layers we saw last week, there are Conv1D and Conv3D layers. \n",
        "# Conv1D layers rely on 1D windows that slide across an input sequence (imagine a 1D image)\n",
        "\n",
        "model_cnn = models.Sequential()\n",
        "model_cnn.add(layers.Conv1D(8, 7, activation='relu', input_shape=(sequence_length, len(df.columns)-1)))\n",
        "model_cnn.add(layers.MaxPooling1D(2))\n",
        "model_cnn.add(layers.Conv1D(8, 3, activation='relu'))\n",
        "model_cnn.add(layers.MaxPooling1D(2))\n",
        "model_cnn.add(layers.GlobalAveragePooling1D())\n",
        "model_cnn.add(layers.Dense(1))\n",
        "\n",
        "model_cnn.summary()"
      ],
      "metadata": {
        "colab": {
          "base_uri": "https://localhost:8080/"
        },
        "id": "k6PADykQPIjq",
        "outputId": "09862dfc-9b68-46d0-efe8-6aded361ebbc"
      },
      "execution_count": null,
      "outputs": [
        {
          "output_type": "stream",
          "name": "stdout",
          "text": [
            "Model: \"sequential_1\"\n",
            "_________________________________________________________________\n",
            " Layer (type)                Output Shape              Param #   \n",
            "=================================================================\n",
            " conv1d (Conv1D)             (None, 8, 8)              344       \n",
            "                                                                 \n",
            " max_pooling1d (MaxPooling1D  (None, 4, 8)             0         \n",
            " )                                                               \n",
            "                                                                 \n",
            " conv1d_1 (Conv1D)           (None, 2, 8)              200       \n",
            "                                                                 \n",
            " max_pooling1d_1 (MaxPooling  (None, 1, 8)             0         \n",
            " 1D)                                                             \n",
            "                                                                 \n",
            " global_average_pooling1d (G  (None, 8)                0         \n",
            " lobalAveragePooling1D)                                          \n",
            "                                                                 \n",
            " dense_2 (Dense)             (None, 1)                 9         \n",
            "                                                                 \n",
            "=================================================================\n",
            "Total params: 553\n",
            "Trainable params: 553\n",
            "Non-trainable params: 0\n",
            "_________________________________________________________________\n"
          ]
        }
      ]
    },
    {
      "cell_type": "code",
      "source": [
        "model_cnn.compile(optimizer='rmsprop', loss='mse', metrics=['mae'])\n",
        "history_cnn = model_cnn.fit(train_dataset, epochs=n_epochs,\n",
        "                            validation_data=val_dataset)"
      ],
      "metadata": {
        "colab": {
          "base_uri": "https://localhost:8080/"
        },
        "id": "PSGRJSulQs22",
        "outputId": "2380f30b-6de2-42fa-a6af-71a3b2425d09"
      },
      "execution_count": null,
      "outputs": [
        {
          "output_type": "stream",
          "name": "stdout",
          "text": [
            "Epoch 1/20\n",
            "80/80 [==============================] - 2s 10ms/step - loss: 124.1497 - mae: 9.8265 - val_loss: 93.4891 - val_mae: 8.2913\n",
            "Epoch 2/20\n",
            "80/80 [==============================] - 1s 7ms/step - loss: 59.1854 - mae: 6.5619 - val_loss: 37.6032 - val_mae: 5.0901\n",
            "Epoch 3/20\n",
            "80/80 [==============================] - 1s 9ms/step - loss: 21.5751 - mae: 3.7817 - val_loss: 24.5510 - val_mae: 3.5884\n",
            "Epoch 4/20\n",
            "80/80 [==============================] - 1s 7ms/step - loss: 16.7291 - mae: 3.2530 - val_loss: 22.4653 - val_mae: 3.3310\n",
            "Epoch 5/20\n",
            "80/80 [==============================] - 1s 9ms/step - loss: 14.9001 - mae: 3.0537 - val_loss: 20.6892 - val_mae: 3.1952\n",
            "Epoch 6/20\n",
            "80/80 [==============================] - 1s 9ms/step - loss: 13.6612 - mae: 2.9259 - val_loss: 19.1584 - val_mae: 3.1061\n",
            "Epoch 7/20\n",
            "80/80 [==============================] - 1s 7ms/step - loss: 12.7882 - mae: 2.8349 - val_loss: 17.9201 - val_mae: 3.0387\n",
            "Epoch 8/20\n",
            "80/80 [==============================] - 1s 9ms/step - loss: 12.1569 - mae: 2.7670 - val_loss: 16.9587 - val_mae: 2.9903\n",
            "Epoch 9/20\n",
            "80/80 [==============================] - 1s 9ms/step - loss: 11.6685 - mae: 2.7145 - val_loss: 16.1877 - val_mae: 2.9501\n",
            "Epoch 10/20\n",
            "80/80 [==============================] - 1s 7ms/step - loss: 11.2710 - mae: 2.6719 - val_loss: 15.5831 - val_mae: 2.9155\n",
            "Epoch 11/20\n",
            "80/80 [==============================] - 1s 7ms/step - loss: 10.9357 - mae: 2.6338 - val_loss: 15.0780 - val_mae: 2.8856\n",
            "Epoch 12/20\n",
            "80/80 [==============================] - 1s 9ms/step - loss: 10.6403 - mae: 2.5999 - val_loss: 14.6770 - val_mae: 2.8584\n",
            "Epoch 13/20\n",
            "80/80 [==============================] - 1s 9ms/step - loss: 10.3717 - mae: 2.5669 - val_loss: 14.3978 - val_mae: 2.8342\n",
            "Epoch 14/20\n",
            "80/80 [==============================] - 1s 9ms/step - loss: 10.1387 - mae: 2.5373 - val_loss: 14.1397 - val_mae: 2.8129\n",
            "Epoch 15/20\n",
            "80/80 [==============================] - 1s 7ms/step - loss: 9.9258 - mae: 2.5107 - val_loss: 13.8840 - val_mae: 2.7931\n",
            "Epoch 16/20\n",
            "80/80 [==============================] - 1s 9ms/step - loss: 9.7201 - mae: 2.4846 - val_loss: 13.6407 - val_mae: 2.7733\n",
            "Epoch 17/20\n",
            "80/80 [==============================] - 1s 7ms/step - loss: 9.5278 - mae: 2.4595 - val_loss: 13.4271 - val_mae: 2.7544\n",
            "Epoch 18/20\n",
            "80/80 [==============================] - 1s 9ms/step - loss: 9.3573 - mae: 2.4372 - val_loss: 13.2210 - val_mae: 2.7368\n",
            "Epoch 19/20\n",
            "80/80 [==============================] - 1s 9ms/step - loss: 9.1910 - mae: 2.4162 - val_loss: 13.0494 - val_mae: 2.7196\n",
            "Epoch 20/20\n",
            "80/80 [==============================] - 1s 7ms/step - loss: 9.0358 - mae: 2.3957 - val_loss: 12.8973 - val_mae: 2.7040\n"
          ]
        }
      ]
    },
    {
      "cell_type": "code",
      "source": [
        "# Plot MAE cures for validation and training\n",
        "plot_hist_regression(history_cnn, baseline)"
      ],
      "metadata": {
        "colab": {
          "base_uri": "https://localhost:8080/",
          "height": 279
        },
        "id": "6bB6lzLYSG-u",
        "outputId": "6b3161ae-3704-4142-fa30-28ca1bf973a2"
      },
      "execution_count": null,
      "outputs": [
        {
          "output_type": "display_data",
          "data": {
            "text/plain": [
              "<Figure size 432x288 with 1 Axes>"
            ],
            "image/png": "[encoded data removed]"
          },
          "metadata": {
            "needs_background": "light"
          }
        }
      ]
    },
    {
      "cell_type": "markdown",
      "source": [
        "This model isn't any better, with a validation MAE of 2.77 degrees (also worse than the 'common-sense approach' that we tried at first), and we're overfitting a bit too.\n",
        "\n",
        "Why?\n",
        "\n",
        "In timeseries, order matters a lot: the recent past is more informative than data from 5 days ago, and convolutional layers don't take advantage of this fact -- max pooling and global average pooling layers actually destroy this order information."
      ],
      "metadata": {
        "id": "Kc2iMPSHViL1"
      }
    },
    {
      "cell_type": "markdown",
      "metadata": {
        "id": "3ozUAZX__a0R"
      },
      "source": [
        "## Long Short Term Memory (LSTM) Neural Networks\n",
        "\n",
        "\n"
      ]
    },
    {
      "cell_type": "code",
      "execution_count": null,
      "metadata": {
        "id": "2dWfiaUw_a0R",
        "colab": {
          "base_uri": "https://localhost:8080/"
        },
        "outputId": "b18f9712-3cdf-4ae9-e942-b176543511d9"
      },
      "outputs": [
        {
          "output_type": "stream",
          "name": "stdout",
          "text": [
            "Model: \"sequential_2\"\n",
            "_________________________________________________________________\n",
            " Layer (type)                Output Shape              Param #   \n",
            "=================================================================\n",
            " lstm (LSTM)                 (None, 20)                2160      \n",
            "                                                                 \n",
            " dense_3 (Dense)             (None, 1)                 21        \n",
            "                                                                 \n",
            "=================================================================\n",
            "Total params: 2,181\n",
            "Trainable params: 2,181\n",
            "Non-trainable params: 0\n",
            "_________________________________________________________________\n"
          ]
        }
      ],
      "source": [
        "# 1-layer LSTM\n",
        "\n",
        "model_lstm1 = models.Sequential()\n",
        "model_lstm1.add(layers.LSTM(20, input_shape=(sequence_length, len(df.columns)-1)))\n",
        "model_lstm1.add(layers.Dense(1))\n",
        "\n",
        "model_lstm1.summary()"
      ]
    },
    {
      "cell_type": "code",
      "source": [
        "n_epochs = 20"
      ],
      "metadata": {
        "id": "DMst2Mp0R0Xi"
      },
      "execution_count": null,
      "outputs": []
    },
    {
      "cell_type": "code",
      "source": [
        "model_lstm1.compile(optimizer='rmsprop', loss='mse', metrics=['mae'])\n",
        "history_lstm1 = model_lstm1.fit(train_dataset, epochs=n_epochs,\n",
        "                            validation_data=val_dataset)"
      ],
      "metadata": {
        "colab": {
          "base_uri": "https://localhost:8080/"
        },
        "id": "Pff2tZQHXb-z",
        "outputId": "f7631acd-3f7d-4c28-b749-be374c04638b"
      },
      "execution_count": null,
      "outputs": [
        {
          "output_type": "stream",
          "name": "stdout",
          "text": [
            "Epoch 1/20\n",
            "80/80 [==============================] - 4s 21ms/step - loss: 138.9908 - mae: 10.5144 - val_loss: 111.6995 - val_mae: 9.1116\n",
            "Epoch 2/20\n",
            "80/80 [==============================] - 1s 14ms/step - loss: 87.8207 - mae: 8.0462 - val_loss: 61.3756 - val_mae: 6.2994\n",
            "Epoch 3/20\n",
            "80/80 [==============================] - 1s 14ms/step - loss: 51.3560 - mae: 5.9117 - val_loss: 42.6370 - val_mae: 5.1332\n",
            "Epoch 4/20\n",
            "80/80 [==============================] - 1s 13ms/step - loss: 36.9398 - mae: 4.9470 - val_loss: 33.3255 - val_mae: 4.5703\n",
            "Epoch 5/20\n",
            "80/80 [==============================] - 1s 13ms/step - loss: 28.5302 - mae: 4.3178 - val_loss: 27.0749 - val_mae: 4.1424\n",
            "Epoch 6/20\n",
            "80/80 [==============================] - 1s 14ms/step - loss: 22.9557 - mae: 3.8739 - val_loss: 22.5749 - val_mae: 3.7930\n",
            "Epoch 7/20\n",
            "80/80 [==============================] - 1s 14ms/step - loss: 18.9265 - mae: 3.5163 - val_loss: 19.1464 - val_mae: 3.4935\n",
            "Epoch 8/20\n",
            "80/80 [==============================] - 1s 14ms/step - loss: 15.8182 - mae: 3.2113 - val_loss: 16.5192 - val_mae: 3.2410\n",
            "Epoch 9/20\n",
            "80/80 [==============================] - 1s 13ms/step - loss: 13.4287 - mae: 2.9471 - val_loss: 14.5252 - val_mae: 3.0362\n",
            "Epoch 10/20\n",
            "80/80 [==============================] - 1s 14ms/step - loss: 11.6337 - mae: 2.7360 - val_loss: 12.9550 - val_mae: 2.8736\n",
            "Epoch 11/20\n",
            "80/80 [==============================] - 1s 14ms/step - loss: 10.2039 - mae: 2.5620 - val_loss: 11.7019 - val_mae: 2.7369\n",
            "Epoch 12/20\n",
            "80/80 [==============================] - 1s 13ms/step - loss: 9.1239 - mae: 2.4106 - val_loss: 10.6665 - val_mae: 2.6158\n",
            "Epoch 13/20\n",
            "80/80 [==============================] - 1s 14ms/step - loss: 8.2019 - mae: 2.2840 - val_loss: 9.8096 - val_mae: 2.5157\n",
            "Epoch 14/20\n",
            "80/80 [==============================] - 1s 14ms/step - loss: 7.5668 - mae: 2.1904 - val_loss: 9.1214 - val_mae: 2.4330\n",
            "Epoch 15/20\n",
            "80/80 [==============================] - 1s 15ms/step - loss: 7.0536 - mae: 2.1212 - val_loss: 8.6078 - val_mae: 2.3691\n",
            "Epoch 16/20\n",
            "80/80 [==============================] - 1s 15ms/step - loss: 6.7364 - mae: 2.0708 - val_loss: 8.1860 - val_mae: 2.3160\n",
            "Epoch 17/20\n",
            "80/80 [==============================] - 1s 15ms/step - loss: 6.4327 - mae: 2.0287 - val_loss: 7.8484 - val_mae: 2.2683\n",
            "Epoch 18/20\n",
            "80/80 [==============================] - 1s 14ms/step - loss: 6.2362 - mae: 1.9961 - val_loss: 7.5589 - val_mae: 2.2254\n",
            "Epoch 19/20\n",
            "80/80 [==============================] - 1s 14ms/step - loss: 6.0142 - mae: 1.9628 - val_loss: 7.3187 - val_mae: 2.1884\n",
            "Epoch 20/20\n",
            "80/80 [==============================] - 1s 15ms/step - loss: 5.8684 - mae: 1.9349 - val_loss: 7.1105 - val_mae: 2.1558\n"
          ]
        }
      ]
    },
    {
      "cell_type": "code",
      "source": [
        "# Plot MAE cures for validation and training\n",
        "plot_hist_regression(history_lstm1, baseline)\n"
      ],
      "metadata": {
        "colab": {
          "base_uri": "https://localhost:8080/",
          "height": 279
        },
        "id": "hr-bgDUvXmvS",
        "outputId": "8d46c32b-69bd-4ad1-caae-98eba500e59e"
      },
      "execution_count": null,
      "outputs": [
        {
          "output_type": "display_data",
          "data": {
            "text/plain": [
              "<Figure size 432x288 with 1 Axes>"
            ],
            "image/png": "[encoded data removed]"
          },
          "metadata": {
            "needs_background": "light"
          }
        }
      ]
    },
    {
      "cell_type": "code",
      "source": [
        "print('Test MAE = %.2f degrees' % model_lstm1.evaluate(test_dataset)[1])"
      ],
      "metadata": {
        "colab": {
          "base_uri": "https://localhost:8080/"
        },
        "id": "0fFZvXXUcQ67",
        "outputId": "f8851065-6d41-4e7d-e779-08e4a019639d"
      },
      "execution_count": null,
      "outputs": [
        {
          "output_type": "stream",
          "name": "stdout",
          "text": [
            "31/31 [==============================] - 0s 6ms/step - loss: 8.4410 - mae: 2.2936\n",
            "Test MAE = 2.29 degrees\n"
          ]
        }
      ]
    },
    {
      "cell_type": "markdown",
      "source": [
        "Success! We finally beat the common-sense baseline! The validation MAE now is 2.12 degrees, and the test MAE is 2.27.\n",
        "\n",
        "Why do LSTM layers work? Let's go back to the slides"
      ],
      "metadata": {
        "id": "bYSWwI1aXvwL"
      }
    },
    {
      "cell_type": "code",
      "source": [
        "# Adding dropout\n",
        "\n",
        "model_lstm2 = models.Sequential()\n",
        "model_lstm2.add(layers.LSTM(20, input_shape=(sequence_length, len(df.columns)-1), recurrent_dropout=0.25))\n",
        "model_lstm2.add(layers.Dropout(0.4))\n",
        "model_lstm2.add(layers.Dense(1))\n",
        "\n",
        "model_lstm2.summary()"
      ],
      "metadata": {
        "id": "acSYakeOcokB",
        "colab": {
          "base_uri": "https://localhost:8080/"
        },
        "outputId": "672e4f88-fff0-4347-e1f1-48c7d27aad64"
      },
      "execution_count": null,
      "outputs": [
        {
          "output_type": "stream",
          "name": "stdout",
          "text": [
            "Model: \"sequential_3\"\n",
            "_________________________________________________________________\n",
            " Layer (type)                Output Shape              Param #   \n",
            "=================================================================\n",
            " lstm_1 (LSTM)               (None, 20)                2160      \n",
            "                                                                 \n",
            " dropout (Dropout)           (None, 20)                0         \n",
            "                                                                 \n",
            " dense_4 (Dense)             (None, 1)                 21        \n",
            "                                                                 \n",
            "=================================================================\n",
            "Total params: 2,181\n",
            "Trainable params: 2,181\n",
            "Non-trainable params: 0\n",
            "_________________________________________________________________\n"
          ]
        }
      ]
    },
    {
      "cell_type": "code",
      "source": [
        "model_lstm2.compile(optimizer='rmsprop', loss='mse', metrics=['mae'])\n",
        "history_lstm2 = model_lstm2.fit(train_dataset, epochs=n_epochs,\n",
        "                            validation_data=val_dataset)"
      ],
      "metadata": {
        "colab": {
          "base_uri": "https://localhost:8080/"
        },
        "id": "LvRnf9TWSWf9",
        "outputId": "4275b35c-4298-4af5-c38f-63ab2f8b2299"
      },
      "execution_count": null,
      "outputs": [
        {
          "output_type": "stream",
          "name": "stdout",
          "text": [
            "Epoch 1/20\n",
            "80/80 [==============================] - 4s 22ms/step - loss: 128.8129 - mae: 10.2627 - val_loss: 98.3245 - val_mae: 8.8816\n",
            "Epoch 2/20\n",
            "80/80 [==============================] - 2s 20ms/step - loss: 67.0200 - mae: 6.9820 - val_loss: 45.0143 - val_mae: 5.3560\n",
            "Epoch 3/20\n",
            "80/80 [==============================] - 2s 20ms/step - loss: 38.9459 - mae: 5.0935 - val_loss: 31.9128 - val_mae: 4.4492\n",
            "Epoch 4/20\n",
            "80/80 [==============================] - 1s 18ms/step - loss: 30.0845 - mae: 4.4790 - val_loss: 26.3702 - val_mae: 4.0966\n",
            "Epoch 5/20\n",
            "80/80 [==============================] - 1s 18ms/step - loss: 25.0122 - mae: 4.0498 - val_loss: 22.1007 - val_mae: 3.7625\n",
            "Epoch 6/20\n",
            "80/80 [==============================] - 1s 18ms/step - loss: 22.3110 - mae: 3.7507 - val_loss: 19.0034 - val_mae: 3.4794\n",
            "Epoch 7/20\n",
            "80/80 [==============================] - 1s 18ms/step - loss: 19.7066 - mae: 3.4957 - val_loss: 16.0520 - val_mae: 3.1705\n",
            "Epoch 8/20\n",
            "80/80 [==============================] - 1s 18ms/step - loss: 16.8653 - mae: 3.2788 - val_loss: 14.1369 - val_mae: 2.9803\n",
            "Epoch 9/20\n",
            "80/80 [==============================] - 2s 19ms/step - loss: 15.8787 - mae: 3.1900 - val_loss: 12.6496 - val_mae: 2.8240\n",
            "Epoch 10/20\n",
            "80/80 [==============================] - 2s 21ms/step - loss: 14.0922 - mae: 2.9942 - val_loss: 11.6213 - val_mae: 2.7120\n",
            "Epoch 11/20\n",
            "80/80 [==============================] - 1s 18ms/step - loss: 14.4309 - mae: 2.9710 - val_loss: 10.6857 - val_mae: 2.6032\n",
            "Epoch 12/20\n",
            "80/80 [==============================] - 2s 20ms/step - loss: 13.6312 - mae: 2.8834 - val_loss: 10.0702 - val_mae: 2.5288\n",
            "Epoch 13/20\n",
            "80/80 [==============================] - 2s 19ms/step - loss: 12.8434 - mae: 2.7979 - val_loss: 9.4313 - val_mae: 2.4526\n",
            "Epoch 14/20\n",
            "80/80 [==============================] - 2s 22ms/step - loss: 11.2458 - mae: 2.6782 - val_loss: 8.4486 - val_mae: 2.3123\n",
            "Epoch 15/20\n",
            "80/80 [==============================] - 2s 19ms/step - loss: 11.7164 - mae: 2.6944 - val_loss: 8.8430 - val_mae: 2.3898\n",
            "Epoch 16/20\n",
            "80/80 [==============================] - 1s 18ms/step - loss: 10.8463 - mae: 2.6329 - val_loss: 7.8365 - val_mae: 2.2398\n",
            "Epoch 17/20\n",
            "80/80 [==============================] - 2s 19ms/step - loss: 11.4487 - mae: 2.6967 - val_loss: 7.7317 - val_mae: 2.2285\n",
            "Epoch 18/20\n",
            "80/80 [==============================] - 3s 31ms/step - loss: 10.6586 - mae: 2.5667 - val_loss: 7.6915 - val_mae: 2.2269\n",
            "Epoch 19/20\n",
            "80/80 [==============================] - 2s 19ms/step - loss: 10.9403 - mae: 2.6438 - val_loss: 7.2681 - val_mae: 2.1607\n",
            "Epoch 20/20\n",
            "80/80 [==============================] - 1s 18ms/step - loss: 10.9150 - mae: 2.6406 - val_loss: 7.0998 - val_mae: 2.1412\n"
          ]
        }
      ]
    },
    {
      "cell_type": "code",
      "source": [
        "# Plot MAE cures for validation and training\n",
        "plot_hist_regression(history_lstm2, baseline)"
      ],
      "metadata": {
        "colab": {
          "base_uri": "https://localhost:8080/",
          "height": 279
        },
        "id": "cWpm-j9iSck1",
        "outputId": "88d4e0d4-7698-430c-e9eb-95ed70143e95"
      },
      "execution_count": null,
      "outputs": [
        {
          "output_type": "display_data",
          "data": {
            "text/plain": [
              "<Figure size 432x288 with 1 Axes>"
            ],
            "image/png": "[encoded data removed]"
          },
          "metadata": {
            "needs_background": "light"
          }
        }
      ]
    },
    {
      "cell_type": "code",
      "source": [
        "print('Test MAE = %.2f degrees' % model_lstm2.evaluate(test_dataset)[1])"
      ],
      "metadata": {
        "colab": {
          "base_uri": "https://localhost:8080/"
        },
        "id": "rAIQrQDVSmSM",
        "outputId": "13945f0e-79c7-4209-f721-95dd39d44475"
      },
      "execution_count": null,
      "outputs": [
        {
          "output_type": "stream",
          "name": "stdout",
          "text": [
            "31/31 [==============================] - 0s 5ms/step - loss: 7.7065 - mae: 2.1619\n",
            "Test MAE = 2.16 degrees\n"
          ]
        }
      ]
    },
    {
      "cell_type": "markdown",
      "source": [
        "Note that validation set MAE is now lower than MAE on training set -- no longer overfitting. Validation MAE is 2.16 and test MAE is also 2.16.\n",
        "\n",
        "NOTE: This is a very simple dataset with very small differences in performance between different models.  You'll just have to take my word for it that *in general* this approach works. "
      ],
      "metadata": {
        "id": "H3OrpvE3S4gM"
      }
    },
    {
      "cell_type": "code",
      "source": [
        "# Performance in the previous figure can (maybe) still be improved\n",
        "# Let's try to add some more layers -- we can do this now that we're no longer overfitting\n",
        "\n",
        "model_lstm3 = models.Sequential()\n",
        "model_lstm3.add(layers.LSTM(20, input_shape=(sequence_length, len(df.columns)-1), recurrent_dropout=0.25, return_sequences=True))  # NEW!\n",
        "model_lstm3.add(layers.LSTM(20, input_shape=(sequence_length, len(df.columns)-1), recurrent_dropout=0.25))  # NEW!!\n",
        "model_lstm3.add(layers.Dropout(0.4))\n",
        "model_lstm3.add(layers.Dense(1))\n",
        "model_lstm3.summary()"
      ],
      "metadata": {
        "colab": {
          "base_uri": "https://localhost:8080/"
        },
        "id": "jq_ZDTttTX6_",
        "outputId": "4cb6a5ae-0dde-4a39-9d6e-ac49b3ab440c"
      },
      "execution_count": null,
      "outputs": [
        {
          "output_type": "stream",
          "name": "stdout",
          "text": [
            "Model: \"sequential_4\"\n",
            "_________________________________________________________________\n",
            " Layer (type)                Output Shape              Param #   \n",
            "=================================================================\n",
            " lstm_2 (LSTM)               (None, 14, 20)            2160      \n",
            "                                                                 \n",
            " lstm_3 (LSTM)               (None, 20)                3280      \n",
            "                                                                 \n",
            " dropout_1 (Dropout)         (None, 20)                0         \n",
            "                                                                 \n",
            " dense_5 (Dense)             (None, 1)                 21        \n",
            "                                                                 \n",
            "=================================================================\n",
            "Total params: 5,461\n",
            "Trainable params: 5,461\n",
            "Non-trainable params: 0\n",
            "_________________________________________________________________\n"
          ]
        }
      ]
    },
    {
      "cell_type": "code",
      "source": [
        "model_lstm3.compile(optimizer='rmsprop', loss='mse', metrics=['mae'])\n",
        "\n",
        "callbacks = [EarlyStopping(monitor='val_mae', patience=2)]\n",
        "\n",
        "history_lstm3 = model_lstm3.fit(train_dataset, epochs=60,  # increased number of epochs\n",
        "                            validation_data=val_dataset,\n",
        "                            callbacks=callbacks)  # but added early stopping callback\n"
      ],
      "metadata": {
        "colab": {
          "base_uri": "https://localhost:8080/"
        },
        "id": "9xQXChtNUxzh",
        "outputId": "c32ee852-9610-4e4b-d9dd-50a537378857"
      },
      "execution_count": null,
      "outputs": [
        {
          "output_type": "stream",
          "name": "stdout",
          "text": [
            "Epoch 1/60\n",
            "80/80 [==============================] - 8s 36ms/step - loss: 116.0128 - mae: 9.5928 - val_loss: 70.8577 - val_mae: 7.0648\n",
            "Epoch 2/60\n",
            "80/80 [==============================] - 2s 31ms/step - loss: 57.3664 - mae: 6.3445 - val_loss: 45.5477 - val_mae: 5.3186\n",
            "Epoch 3/60\n",
            "80/80 [==============================] - 3s 35ms/step - loss: 42.3181 - mae: 5.3056 - val_loss: 38.7265 - val_mae: 5.0693\n",
            "Epoch 4/60\n",
            "80/80 [==============================] - 2s 30ms/step - loss: 33.3348 - mae: 4.6738 - val_loss: 30.9459 - val_mae: 4.4842\n",
            "Epoch 5/60\n",
            "80/80 [==============================] - 2s 31ms/step - loss: 27.8489 - mae: 4.2479 - val_loss: 25.0446 - val_mae: 4.0003\n",
            "Epoch 6/60\n",
            "80/80 [==============================] - 2s 31ms/step - loss: 23.1130 - mae: 3.8369 - val_loss: 21.6441 - val_mae: 3.7228\n",
            "Epoch 7/60\n",
            "80/80 [==============================] - 2s 30ms/step - loss: 21.0736 - mae: 3.6492 - val_loss: 19.7026 - val_mae: 3.5774\n",
            "Epoch 8/60\n",
            "80/80 [==============================] - 2s 31ms/step - loss: 19.1035 - mae: 3.4851 - val_loss: 16.2048 - val_mae: 3.1951\n",
            "Epoch 9/60\n",
            "80/80 [==============================] - 2s 31ms/step - loss: 17.7150 - mae: 3.3815 - val_loss: 14.6732 - val_mae: 3.0527\n",
            "Epoch 10/60\n",
            "80/80 [==============================] - 3s 32ms/step - loss: 15.6875 - mae: 3.1889 - val_loss: 13.9684 - val_mae: 3.0057\n",
            "Epoch 11/60\n",
            "80/80 [==============================] - 3s 34ms/step - loss: 15.0746 - mae: 3.0918 - val_loss: 13.2603 - val_mae: 2.9407\n",
            "Epoch 12/60\n",
            "80/80 [==============================] - 3s 32ms/step - loss: 13.7935 - mae: 2.9533 - val_loss: 11.7162 - val_mae: 2.7519\n",
            "Epoch 13/60\n",
            "80/80 [==============================] - 3s 32ms/step - loss: 12.9441 - mae: 2.8520 - val_loss: 11.3020 - val_mae: 2.7130\n",
            "Epoch 14/60\n",
            "80/80 [==============================] - 2s 30ms/step - loss: 12.5219 - mae: 2.8016 - val_loss: 10.2817 - val_mae: 2.5811\n",
            "Epoch 15/60\n",
            "80/80 [==============================] - 2s 31ms/step - loss: 12.6913 - mae: 2.8367 - val_loss: 10.4181 - val_mae: 2.6102\n",
            "Epoch 16/60\n",
            "80/80 [==============================] - 2s 30ms/step - loss: 11.4012 - mae: 2.6789 - val_loss: 9.5309 - val_mae: 2.4942\n",
            "Epoch 17/60\n",
            "80/80 [==============================] - 2s 31ms/step - loss: 11.3268 - mae: 2.6821 - val_loss: 9.2591 - val_mae: 2.4672\n",
            "Epoch 18/60\n",
            "80/80 [==============================] - 2s 31ms/step - loss: 11.8411 - mae: 2.7134 - val_loss: 9.2924 - val_mae: 2.4809\n",
            "Epoch 19/60\n",
            "80/80 [==============================] - 2s 31ms/step - loss: 10.8844 - mae: 2.6326 - val_loss: 8.1395 - val_mae: 2.3028\n",
            "Epoch 20/60\n",
            "80/80 [==============================] - 3s 31ms/step - loss: 10.9671 - mae: 2.6195 - val_loss: 8.2636 - val_mae: 2.3317\n",
            "Epoch 21/60\n",
            "80/80 [==============================] - 3s 32ms/step - loss: 11.0140 - mae: 2.6001 - val_loss: 8.4384 - val_mae: 2.3472\n"
          ]
        }
      ]
    },
    {
      "cell_type": "code",
      "source": [
        "# Plot MAE cures for validation and training\n",
        "plot_hist_regression(history_lstm3, baseline)\n",
        "print('Test MAE = %.2f degrees' % model_lstm3.evaluate(test_dataset)[1])"
      ],
      "metadata": {
        "colab": {
          "base_uri": "https://localhost:8080/",
          "height": 314
        },
        "id": "PtFfB3YaU4k3",
        "outputId": "f847da05-7339-4eea-efe2-8ed629d2141f"
      },
      "execution_count": null,
      "outputs": [
        {
          "output_type": "display_data",
          "data": {
            "text/plain": [
              "<Figure size 432x288 with 1 Axes>"
            ],
            "image/png": "[encoded data removed]"
          },
          "metadata": {
            "needs_background": "light"
          }
        },
        {
          "output_type": "stream",
          "name": "stdout",
          "text": [
            "31/31 [==============================] - 0s 8ms/step - loss: 8.4322 - mae: 2.2670\n",
            "Test MAE = 2.27 degrees\n"
          ]
        }
      ]
    },
    {
      "cell_type": "markdown",
      "source": [
        "Validation MAE = 1.92 degrees\n",
        "\n",
        "Test MAE = 1.89 degrees\n"
      ],
      "metadata": {
        "id": "eUJqRqp1XJnL"
      }
    },
    {
      "cell_type": "markdown",
      "source": [
        "# Text"
      ],
      "metadata": {
        "id": "zGEuNqw2csXj"
      }
    },
    {
      "cell_type": "markdown",
      "source": [
        "## Data prep\n",
        "\n",
        "We'll try to predict whether the review for a movie is positive or negative looking only at the text of the review.\n",
        "\n",
        "We'll use the IMDB text dataset for this task, which is available on `keras.datasets` and described [here](https://keras.io/api/datasets/imdb/). \n",
        "\n",
        "We'll merge the training and test sets and use 60% for training, 20% for validation, and 20% for testing.\n",
        "\n",
        "\n",
        "As this is a binary classificationp problem, we'll use the binary cross entropy loss function. We will keep track of accuracy when training and evaluating the model.\n"
      ],
      "metadata": {
        "id": "dtv0EjsTbwvm"
      }
    },
    {
      "cell_type": "code",
      "source": [
        "def plot_hist_classif(hist):\n",
        "  n_ = len(hist.history['accuracy'])\n",
        "  plt.plot(range(1, n_+1), 100*np.asarray(hist.history['accuracy']), 'bo', label='Accuracy on training set')\n",
        "  plt.plot(range(1, n_+1), 100*np.asarray(hist.history['val_accuracy']), 'b', label='Accuracy on validation set')\n",
        "  plt.legend()\n",
        "  plt.xlabel(\"Epoch\") \n",
        "  plt.ylabel(\"Accuracy\")\n",
        "  plt.ylim(0, 100)\n",
        "  plt.axhline(y=50)\n",
        "  plt.show()\n"
      ],
      "metadata": {
        "id": "i-mH-8IGwGo1"
      },
      "execution_count": null,
      "outputs": []
    },
    {
      "cell_type": "code",
      "source": [
        "max_features = 15000  # only consider the top 15k words\n",
        "maxlen = 500  # first 500 words of each review\n",
        "batch_size = 32\n",
        "\n",
        "print('Loading data...')\n",
        "# Load dataset\n",
        "(x_train, y_train), (x_test, y_test) = keras.datasets.imdb.load_data(num_words=max_features)\n",
        "print(len(x_train), 'train sequences', x_train.shape)\n",
        "print(len(x_test), 'test sequences', x_test.shape)"
      ],
      "metadata": {
        "colab": {
          "base_uri": "https://localhost:8080/"
        },
        "id": "4TW3Vg49n5V-",
        "outputId": "58336ad9-5f8b-499c-ea6c-da2484eb2674"
      },
      "execution_count": null,
      "outputs": [
        {
          "output_type": "stream",
          "name": "stdout",
          "text": [
            "Loading data...\n",
            "Downloading data from https://storage.googleapis.com/tensorflow/tf-keras-datasets/imdb.npz\n",
            "17465344/17464789 [==============================] - 0s 0us/step\n",
            "17473536/17464789 [==============================] - 0s 0us/step\n",
            "25000 train sequences (25000,)\n",
            "25000 test sequences (25000,)\n"
          ]
        }
      ]
    },
    {
      "cell_type": "code",
      "source": [
        "# How balanced is this dataset?\n",
        "print(np.sum(y_train)/len(y_train))\n",
        "print(np.sum(y_test)/len(y_test))"
      ],
      "metadata": {
        "colab": {
          "base_uri": "https://localhost:8080/"
        },
        "id": "8ApTb-jYtSOm",
        "outputId": "adc9baa7-9263-4862-f25a-131a227ea630"
      },
      "execution_count": null,
      "outputs": [
        {
          "output_type": "stream",
          "name": "stdout",
          "text": [
            "0.5\n",
            "0.5\n"
          ]
        }
      ]
    },
    {
      "cell_type": "code",
      "source": [
        "# Merge the two datasets and divide: 60% for training, 20% validation, 20% test\n",
        "x_, y_ = np.concatenate((x_train, x_test)), np.concatenate((y_train, y_test))\n",
        "print(x_.shape, y_.shape)\n",
        "x_train, x_test, y_train, y_test = train_test_split(x_, y_, test_size=0.4, random_state=10)  # 60/40 split\n",
        "x_val, x_test, y_val, y_test = train_test_split(x_test, y_test, test_size=0.5, random_state=10)  # 50/50 split\n",
        "print(len(x_train), 'train sequences', x_train.shape)\n",
        "print(len(x_val), 'validation sequences', x_val.shape)\n",
        "print(len(x_test), 'test sequences', x_test.shape)"
      ],
      "metadata": {
        "colab": {
          "base_uri": "https://localhost:8080/"
        },
        "id": "Z53Fbicqr8tm",
        "outputId": "d4c6bdcc-7b3a-4b6c-f06c-0f8f2d50bad5"
      },
      "execution_count": null,
      "outputs": [
        {
          "output_type": "stream",
          "name": "stdout",
          "text": [
            "(50000,) (50000,)\n",
            "30000 train sequences (30000,)\n",
            "10000 validation sequences (10000,)\n",
            "10000 test sequences (10000,)\n"
          ]
        }
      ]
    },
    {
      "cell_type": "code",
      "source": [
        "x_train[0][:10]  # numbers!!"
      ],
      "metadata": {
        "colab": {
          "base_uri": "https://localhost:8080/"
        },
        "id": "5v_Hy-r8o8pR",
        "outputId": "17cdb40c-46f3-490c-fa18-87a1191f7282"
      },
      "execution_count": null,
      "outputs": [
        {
          "output_type": "execute_result",
          "data": {
            "text/plain": [
              "[1, 11531, 186, 8, 28, 6, 6482, 7, 269, 4042]"
            ]
          },
          "metadata": {},
          "execution_count": 41
        }
      ]
    },
    {
      "cell_type": "code",
      "source": [
        "# We can explore what one of the reviews looks like at this point.\n",
        "\n",
        "# Retrieve the word index file that maps words to indices\n",
        "word_index = keras.datasets.imdb.get_word_index()\n",
        "# Reverse the word index to obtain a dict mapping indices to words (which is what we have)\n",
        "inverted_word_index = dict((i, word) for (word, i) in word_index.items())\n",
        "# Decode the first sequence in the dataset\n",
        "decoded_sequence = \" \".join(inverted_word_index[i] for i in x_train[0])\n",
        "decoded_sequence"
      ],
      "metadata": {
        "colab": {
          "base_uri": "https://localhost:8080/",
          "height": 124
        },
        "id": "rgEgNSLBpFwh",
        "outputId": "d6a99c57-5d8b-4a62-d15c-784feda34cb7"
      },
      "execution_count": null,
      "outputs": [
        {
          "output_type": "stream",
          "name": "stdout",
          "text": [
            "Downloading data from https://storage.googleapis.com/tensorflow/tf-keras-datasets/imdb_word_index.json\n",
            "1646592/1641221 [==============================] - 0s 0us/step\n",
            "1654784/1641221 [==============================] - 0s 0us/step\n"
          ]
        },
        {
          "output_type": "execute_result",
          "data": {
            "text/plain": [
              "\"the lilly horror in one is fatale br looks meaningless in bronson be showing as you debut film ample to and ingredients zombi ample they for series and thought she's all manipulate and believing in j show look early last quote desire tight interesting that's kind out is far shelter but of frame br and\""
            ],
            "application/vnd.google.colaboratory.intrinsic+json": {
              "type": "string"
            }
          },
          "metadata": {},
          "execution_count": 42
        }
      ]
    },
    {
      "cell_type": "code",
      "source": [
        "# Let's ensure all sequences have the same length through padding\n",
        "# - shorter reviews are padded with 0's\n",
        "# - longer reviews are cut\n",
        "print('Pad sequences')\n",
        "x_train = keras.preprocessing.sequence.pad_sequences(x_train, maxlen=maxlen)\n",
        "x_val = keras.preprocessing.sequence.pad_sequences(x_val, maxlen=maxlen)\n",
        "x_test = keras.preprocessing.sequence.pad_sequences(x_test, maxlen=maxlen)\n",
        "print('x_train shape:', x_train.shape)\n",
        "print('x_val shape:', x_val.shape)\n",
        "print('x_test shape:', x_test.shape)"
      ],
      "metadata": {
        "colab": {
          "base_uri": "https://localhost:8080/"
        },
        "id": "ibmO0V-gcthG",
        "outputId": "25acd133-64c5-4a17-b296-4f47335a55ea"
      },
      "execution_count": null,
      "outputs": [
        {
          "output_type": "stream",
          "name": "stdout",
          "text": [
            "Pad sequences\n",
            "x_train shape: (30000, 500)\n",
            "x_val shape: (10000, 500)\n",
            "x_test shape: (10000, 500)\n"
          ]
        }
      ]
    },
    {
      "cell_type": "code",
      "source": [
        "# Basic feedforward model\n",
        "model = models.Sequential()\n",
        "model.add(layers.Embedding(max_features, 128, input_length=maxlen))\n",
        "model.add(layers.Dense(64, activation='relu'))\n",
        "model.add(layers.Dropout(0.5))\n",
        "model.add(layers.Dense(64, activation='relu'))\n",
        "model.add(layers.Dropout(0.5))\n",
        "model.add(layers.Flatten())\n",
        "model.add(layers.Dense(1, activation=\"sigmoid\"))\n",
        "model.summary()"
      ],
      "metadata": {
        "colab": {
          "base_uri": "https://localhost:8080/"
        },
        "id": "sBpQpwBAk44H",
        "outputId": "741430e9-8e79-461f-8ad0-67bea5791f50"
      },
      "execution_count": null,
      "outputs": [
        {
          "output_type": "stream",
          "name": "stdout",
          "text": [
            "Model: \"sequential_5\"\n",
            "_________________________________________________________________\n",
            " Layer (type)                Output Shape              Param #   \n",
            "=================================================================\n",
            " embedding (Embedding)       (None, 500, 128)          1920000   \n",
            "                                                                 \n",
            " dense_6 (Dense)             (None, 500, 64)           8256      \n",
            "                                                                 \n",
            " dropout_2 (Dropout)         (None, 500, 64)           0         \n",
            "                                                                 \n",
            " dense_7 (Dense)             (None, 500, 64)           4160      \n",
            "                                                                 \n",
            " dropout_3 (Dropout)         (None, 500, 64)           0         \n",
            "                                                                 \n",
            " flatten_1 (Flatten)         (None, 32000)             0         \n",
            "                                                                 \n",
            " dense_8 (Dense)             (None, 1)                 32001     \n",
            "                                                                 \n",
            "=================================================================\n",
            "Total params: 1,964,417\n",
            "Trainable params: 1,964,417\n",
            "Non-trainable params: 0\n",
            "_________________________________________________________________\n"
          ]
        }
      ]
    },
    {
      "cell_type": "code",
      "source": [
        "model.compile(optimizer=\"rmsprop\", loss=\"binary_crossentropy\", metrics=[\"accuracy\"])\n",
        "history = model.fit(x_train, y_train, batch_size=batch_size, epochs=20, validation_data=(x_val, y_val))"
      ],
      "metadata": {
        "colab": {
          "base_uri": "https://localhost:8080/"
        },
        "id": "-8c7tCS5vrC3",
        "outputId": "ce2a715a-94b7-4789-a30d-ba0a015760d8"
      },
      "execution_count": null,
      "outputs": [
        {
          "output_type": "stream",
          "name": "stdout",
          "text": [
            "Epoch 1/20\n",
            "938/938 [==============================] - 74s 78ms/step - loss: 0.4331 - accuracy: 0.7745 - val_loss: 0.2672 - val_accuracy: 0.8880\n",
            "Epoch 2/20\n",
            "938/938 [==============================] - 73s 78ms/step - loss: 0.2425 - accuracy: 0.9047 - val_loss: 0.2534 - val_accuracy: 0.8980\n",
            "Epoch 3/20\n",
            "938/938 [==============================] - 73s 78ms/step - loss: 0.2064 - accuracy: 0.9201 - val_loss: 0.2785 - val_accuracy: 0.8920\n",
            "Epoch 4/20\n",
            "938/938 [==============================] - 74s 78ms/step - loss: 0.1886 - accuracy: 0.9274 - val_loss: 0.2554 - val_accuracy: 0.8970\n",
            "Epoch 5/20\n",
            "938/938 [==============================] - 74s 79ms/step - loss: 0.1761 - accuracy: 0.9347 - val_loss: 0.2600 - val_accuracy: 0.8986\n",
            "Epoch 6/20\n",
            "938/938 [==============================] - 73s 78ms/step - loss: 0.1702 - accuracy: 0.9361 - val_loss: 0.3336 - val_accuracy: 0.8694\n",
            "Epoch 7/20\n",
            "938/938 [==============================] - 73s 78ms/step - loss: 0.1640 - accuracy: 0.9384 - val_loss: 0.3059 - val_accuracy: 0.8795\n",
            "Epoch 8/20\n",
            "938/938 [==============================] - 73s 78ms/step - loss: 0.1571 - accuracy: 0.9424 - val_loss: 0.3499 - val_accuracy: 0.8635\n",
            "Epoch 9/20\n",
            "938/938 [==============================] - 73s 78ms/step - loss: 0.1512 - accuracy: 0.9437 - val_loss: 0.2913 - val_accuracy: 0.8886\n",
            "Epoch 10/20\n",
            "938/938 [==============================] - 82s 87ms/step - loss: 0.1424 - accuracy: 0.9476 - val_loss: 0.2976 - val_accuracy: 0.8849\n",
            "Epoch 11/20\n",
            "938/938 [==============================] - 74s 79ms/step - loss: 0.1348 - accuracy: 0.9506 - val_loss: 0.2810 - val_accuracy: 0.8908\n",
            "Epoch 12/20\n",
            "938/938 [==============================] - 74s 79ms/step - loss: 0.1303 - accuracy: 0.9522 - val_loss: 0.3295 - val_accuracy: 0.8742\n",
            "Epoch 13/20\n",
            "938/938 [==============================] - 73s 78ms/step - loss: 0.1269 - accuracy: 0.9531 - val_loss: 0.3072 - val_accuracy: 0.8895\n",
            "Epoch 14/20\n",
            "938/938 [==============================] - 73s 78ms/step - loss: 0.1188 - accuracy: 0.9561 - val_loss: 0.4504 - val_accuracy: 0.8435\n",
            "Epoch 15/20\n",
            "938/938 [==============================] - 72s 77ms/step - loss: 0.1159 - accuracy: 0.9582 - val_loss: 0.3568 - val_accuracy: 0.8869\n",
            "Epoch 16/20\n",
            "938/938 [==============================] - 73s 77ms/step - loss: 0.1098 - accuracy: 0.9598 - val_loss: 0.3412 - val_accuracy: 0.8851\n",
            "Epoch 17/20\n",
            "938/938 [==============================] - 73s 77ms/step - loss: 0.1067 - accuracy: 0.9613 - val_loss: 0.3524 - val_accuracy: 0.8851\n",
            "Epoch 18/20\n",
            "938/938 [==============================] - 73s 77ms/step - loss: 0.1039 - accuracy: 0.9619 - val_loss: 0.3642 - val_accuracy: 0.8854\n",
            "Epoch 19/20\n",
            "938/938 [==============================] - 72s 77ms/step - loss: 0.0975 - accuracy: 0.9641 - val_loss: 0.4424 - val_accuracy: 0.8681\n",
            "Epoch 20/20\n",
            "938/938 [==============================] - 72s 77ms/step - loss: 0.0958 - accuracy: 0.9650 - val_loss: 0.4108 - val_accuracy: 0.8778\n"
          ]
        }
      ]
    },
    {
      "cell_type": "code",
      "source": [
        "plot_hist_classif(history)\n",
        "print('Test Accuracy = %.2f' % model.evaluate(x_test, y_test)[1])  # overfitting!"
      ],
      "metadata": {
        "colab": {
          "base_uri": "https://localhost:8080/",
          "height": 318
        },
        "id": "dKBVw5mHv_oX",
        "outputId": "39aa5e50-c8c0-4c1d-9f94-4a4a906f1895"
      },
      "execution_count": null,
      "outputs": [
        {
          "output_type": "display_data",
          "data": {
            "text/plain": [
              "<Figure size 432x288 with 1 Axes>"
            ],
            "image/png": "[encoded data removed]"
          },
          "metadata": {
            "needs_background": "light"
          }
        },
        {
          "output_type": "stream",
          "name": "stdout",
          "text": [
            "313/313 [==============================] - 5s 16ms/step - loss: 0.4037 - accuracy: 0.8802\n",
            "Test Accuracy = 0.88\n"
          ]
        }
      ]
    },
    {
      "cell_type": "code",
      "source": [
        "# Let's try an RNN\n",
        "model = models.Sequential()\n",
        "model.add(layers.Embedding(max_features, 64))\n",
        "model.add(layers.LSTM(128, return_sequences=False))\n",
        "model.add(layers.Dropout(0.5))\n",
        "model.add(layers.Dense(1, activation=\"sigmoid\"))\n",
        "model.compile(optimizer=\"rmsprop\", loss=\"binary_crossentropy\", metrics=[\"accuracy\"])\n",
        "model.summary()"
      ],
      "metadata": {
        "colab": {
          "base_uri": "https://localhost:8080/"
        },
        "id": "Ieh7Wl9Pwh8V",
        "outputId": "29c9767c-ccca-46c2-a743-05d8ec88b725"
      },
      "execution_count": null,
      "outputs": [
        {
          "output_type": "stream",
          "name": "stdout",
          "text": [
            "Model: \"sequential_6\"\n",
            "_________________________________________________________________\n",
            " Layer (type)                Output Shape              Param #   \n",
            "=================================================================\n",
            " embedding_1 (Embedding)     (None, None, 64)          960000    \n",
            "                                                                 \n",
            " lstm_4 (LSTM)               (None, 128)               98816     \n",
            "                                                                 \n",
            " dropout_4 (Dropout)         (None, 128)               0         \n",
            "                                                                 \n",
            " dense_9 (Dense)             (None, 1)                 129       \n",
            "                                                                 \n",
            "=================================================================\n",
            "Total params: 1,058,945\n",
            "Trainable params: 1,058,945\n",
            "Non-trainable params: 0\n",
            "_________________________________________________________________\n"
          ]
        }
      ]
    },
    {
      "cell_type": "code",
      "source": [
        "# This model will take a long time to train, so we add an early stopping criterion\n",
        "# N.B: It's actually much faster to train WITHOUT A GPU!!\n",
        "callbacks = [EarlyStopping(monitor='val_accuracy', patience=2)]\n",
        "history = model.fit(x_train, y_train, batch_size=batch_size, epochs=20, validation_data=(x_val, y_val), callbacks=callbacks)\n",
        "plot_hist_classif(history)\n",
        "print('Test Accuracy = %.2f' % model.evaluate(x_test, y_test)[1])\n",
        "# Note that we're still overfitting, but this is just an example of use"
      ],
      "metadata": {
        "colab": {
          "base_uri": "https://localhost:8080/",
          "height": 660
        },
        "id": "Sd54xZMmxKBQ",
        "outputId": "ad74e21c-2944-495a-b2ae-a2588c7c3e5f"
      },
      "execution_count": null,
      "outputs": [
        {
          "output_type": "stream",
          "name": "stdout",
          "text": [
            "Epoch 1/20\n",
            "938/938 [==============================] - 567s 602ms/step - loss: 0.4198 - accuracy: 0.8159 - val_loss: 0.2826 - val_accuracy: 0.8865\n",
            "Epoch 2/20\n",
            "938/938 [==============================] - 573s 611ms/step - loss: 0.2783 - accuracy: 0.8934 - val_loss: 0.3683 - val_accuracy: 0.8378\n",
            "Epoch 3/20\n",
            "938/938 [==============================] - 569s 606ms/step - loss: 0.2340 - accuracy: 0.9118 - val_loss: 0.2752 - val_accuracy: 0.8952\n",
            "Epoch 4/20\n",
            "938/938 [==============================] - 568s 606ms/step - loss: 0.2103 - accuracy: 0.9237 - val_loss: 0.6507 - val_accuracy: 0.7144\n",
            "Epoch 5/20\n",
            "938/938 [==============================] - 568s 605ms/step - loss: 0.1924 - accuracy: 0.9296 - val_loss: 0.2541 - val_accuracy: 0.9021\n",
            "Epoch 6/20\n",
            "938/938 [==============================] - 568s 605ms/step - loss: 0.1757 - accuracy: 0.9372 - val_loss: 0.3115 - val_accuracy: 0.8848\n",
            "Epoch 7/20\n",
            "938/938 [==============================] - 566s 603ms/step - loss: 0.1553 - accuracy: 0.9441 - val_loss: 0.2573 - val_accuracy: 0.9104\n",
            "Epoch 8/20\n",
            "938/938 [==============================] - 566s 603ms/step - loss: 0.1377 - accuracy: 0.9527 - val_loss: 0.2516 - val_accuracy: 0.9008\n",
            "Epoch 9/20\n",
            "938/938 [==============================] - 565s 602ms/step - loss: 0.1263 - accuracy: 0.9577 - val_loss: 0.2787 - val_accuracy: 0.9068\n"
          ]
        },
        {
          "output_type": "display_data",
          "data": {
            "text/plain": [
              "<Figure size 432x288 with 1 Axes>"
            ],
            "image/png": "[encoded data removed]"
          },
          "metadata": {
            "needs_background": "light"
          }
        },
        {
          "output_type": "stream",
          "name": "stdout",
          "text": [
            "313/313 [==============================] - 44s 142ms/step - loss: 0.2716 - accuracy: 0.9098\n",
            "Test Accuracy = 0.91\n"
          ]
        }
      ]
    },
    {
      "cell_type": "markdown",
      "source": [
        "## Your turn!\n",
        "\n",
        "Implement a bidirectional RNN that can outperform the LSTM model we had above.\n",
        "\n",
        "A starting skeleton could be:\n",
        " \n",
        "*   Embedding layer with an output dimension of 64\n",
        "*   Bidirectional layer with a 32-neuron LSTM layer\n",
        "*   Dense layer with 1 neuron and a sigmoid activation\n",
        "\n",
        "Some suggestions:\n",
        "\n",
        "- Change the sizes of the layers (i.e., the numbers of neurons)\n",
        "- Add dropout\n",
        "- Add other recurrent and/or bidirectional layers\n",
        "\n",
        "Once you have a model that scores over 90% on the validation set, check its performance on the test set and upload it on the code checker in Moodle.\n",
        "\n",
        "Note that the model I'm suggesting above will be able to reach the desired performance, but it will show signs of overfitting. Can you do it by adding regularization (dropout, smaller network) so you don't overfit?\n"
      ],
      "metadata": {
        "id": "kzZhXm5gkz_g"
      }
    },
    {
      "cell_type": "code",
      "source": [
        "n_ = 10  # number of epochs. You can edit this\n",
        "\n",
        "model = models.Sequential()\n",
        "# YOUR CODE HERE!\n",
        "# model.add(layers.Embedding(max_features, 64))\n",
        "model.add(layers.Embedding(max_features, 128))\n",
        "\n",
        "model.add(layers.Bidirectional(layers.LSTM(16, return_sequences=True)))\n",
        "model.add(layers.Bidirectional(layers.LSTM(16, return_sequences=False)))\n",
        "model.add(layers.Dropout(0.5))\n",
        "model.add(layers.Dense(1, activation='sigmoid'))\n",
        "\n",
        "\n",
        "# I DON'T RECOMMEND THAT YOU CHANGE CODE AFTER THIS POINT\n",
        "model.compile(optimizer=\"rmsprop\", loss=\"binary_crossentropy\", metrics=[\"accuracy\"])\n",
        "\n",
        "print(model.summary())\n",
        "\n",
        "# This model will take a long time to train, so we add an early stopping criterion\n",
        "# I've also added a ModelCheckpoint that will save the best model according to val_accuracy regardless of whether we continue training\n",
        "callbacks = [EarlyStopping(monitor='val_accuracy', patience=1),\n",
        "             ModelCheckpoint(\"model.keras\", save_best_only=True, monitor=\"val_accuracy\", mode='max')]\n",
        "\n",
        "history = model.fit(x_train, y_train, batch_size=batch_size, epochs=n_, \n",
        "                    validation_data=(x_val, y_val), \n",
        "                    callbacks=callbacks)\n",
        "plot_hist_classif(history)\n",
        "model = keras.models.load_model(\"model.keras\")\n",
        "print('Test Accuracy = %.2f' % model.evaluate(x_test, y_test)[1])"
      ],
      "metadata": {
        "id": "jCHOC7dyadaj",
        "colab": {
          "base_uri": "https://localhost:8080/",
          "height": 803
        },
        "outputId": "405abf12-6fa6-4efd-aa12-574c2156fbae"
      },
      "execution_count": null,
      "outputs": [
        {
          "output_type": "stream",
          "name": "stdout",
          "text": [
            "Model: \"sequential_13\"\n",
            "_________________________________________________________________\n",
            " Layer (type)                Output Shape              Param #   \n",
            "=================================================================\n",
            " embedding_7 (Embedding)     (None, None, 128)         1920000   \n",
            "                                                                 \n",
            " bidirectional_7 (Bidirectio  (None, None, 32)         18560     \n",
            " nal)                                                            \n",
            "                                                                 \n",
            " bidirectional_8 (Bidirectio  (None, 32)               6272      \n",
            " nal)                                                            \n",
            "                                                                 \n",
            " dropout_9 (Dropout)         (None, 32)                0         \n",
            "                                                                 \n",
            " dense_14 (Dense)            (None, 1)                 33        \n",
            "                                                                 \n",
            "=================================================================\n",
            "Total params: 1,944,865\n",
            "Trainable params: 1,944,865\n",
            "Non-trainable params: 0\n",
            "_________________________________________________________________\n",
            "None\n",
            "Epoch 1/10\n",
            "938/938 [==============================] - 673s 709ms/step - loss: 0.3885 - accuracy: 0.8358 - val_loss: 0.2791 - val_accuracy: 0.8910\n",
            "Epoch 2/10\n",
            "938/938 [==============================] - 670s 715ms/step - loss: 0.2539 - accuracy: 0.9069 - val_loss: 0.2979 - val_accuracy: 0.8857\n"
          ]
        },
        {
          "output_type": "display_data",
          "data": {
            "text/plain": [
              "<Figure size 432x288 with 1 Axes>"
            ],
            "image/png": "[encoded data removed]"
          },
          "metadata": {
            "needs_background": "light"
          }
        },
        {
          "output_type": "stream",
          "name": "stdout",
          "text": [
            "313/313 [==============================] - 39s 118ms/step - loss: 0.2770 - accuracy: 0.8922\n",
            "Test Accuracy = 0.89\n"
          ]
        }
      ]
    },
    {
      "cell_type": "code",
      "source": [
        "if model.count_params() > 1000000:\n",
        "    print(\"Due to memory constraints on Moodle, the lab quiz has a 10MB limit on your model size, so you need to use a smaller model to validate through the auto-marker.\")\n",
        "\n",
        "if history.history[\"val_accuracy\"][-1] > 0.88:\n",
        "    print(\"Your model is accurate enough!\")\n",
        "\n",
        "else:\n",
        "    print(\"Accuracy is below the threshold!\")\n",
        "    raise Exception(\"Your model isn't accurate enough to pass the progress checker!\")\n",
        "# Save the model into a local folder\n",
        "keras.models.save_model(model, \"/content/drive/MyDrive/essex_university/data_science_and_making_data_decition/lab8_rnn_forcast/Model.h5\",save_format='h5')\n",
        "print('Model saved! You can now upload it to the lab quiz.')"
      ],
      "metadata": {
        "id": "ZFBmg66_CR7y",
        "colab": {
          "base_uri": "https://localhost:8080/"
        },
        "outputId": "c840dad6-f175-4a52-f24c-10ca8501a12e"
      },
      "execution_count": null,
      "outputs": [
        {
          "output_type": "stream",
          "name": "stdout",
          "text": [
            "Due to memory constraints on Moodle, the lab quiz has a 10MB limit on your model size, so you need to use a smaller model to validate through the auto-marker.\n",
            "Your model is accurate enough!\n",
            "Model saved! You can now upload it to the lab quiz.\n"
          ]
        }
      ]
    },
    {
      "cell_type": "markdown",
      "source": [
        "# QUIZ"
      ],
      "metadata": {
        "id": "6lDi969EpCe6"
      }
    },
    {
      "cell_type": "markdown",
      "source": [
        "![test2.png](data:image/png;base64,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)"
      ],
      "metadata": {
        "id": "TodqFzTJKgVl"
      }
    },
    {
      "cell_type": "code",
      "source": [
        "# quiz 1.\n",
        "import numpy as np\n",
        "\n",
        "def activation_sigmoid(x):\n",
        "    # Implement the sigmoid function https://en.wikipedia.org/wiki/Sigmoid_function\n",
        "    h = 1/(1+np.exp(-x)) # YOUR CODE HERE\n",
        "    return h\n",
        "\n",
        "\n",
        "\n",
        "def forward(sequence, W, U):\n",
        "    \"\"\" Forward step of a SimpleRNN layer.\n",
        "    # Assume that sequence is a rank-2 tensor of shape (timesteps, input_features)\n",
        "    # W, and U are rank-2 tensors of shape (output_feat, input_feat) and (output_feat, output_feat) respectively\n",
        "    \"\"\"\n",
        "    # 1. Initialise state as a list\n",
        "    state = [np.zeros(W.shape[0],)]\n",
        "    # 2. Iterate through the elements of the sequence. \n",
        "    # For each element, calculate the new state through the equation from slide 11 (using activation_sigmoid as the activation function) and append it to the state list\n",
        "    # Use np.dot to do the vector-matrix multiplications\n",
        "    for i in (sequence):\n",
        "        output = activation_sigmoid(np.dot(W, state[-1]) + np.dot(U, i))\n",
        "        state.append(output)        # your code here\n",
        "    \n",
        "    \n",
        "    # 3. Return the final output\n",
        "    return np.stack(state, axis=0)\n",
        "\n"
      ],
      "metadata": {
        "id": "hv7PyBQQsXav",
        "colab": {
          "base_uri": "https://localhost:8080/"
        },
        "outputId": "3aa9b773-3a36-4b34-c360-e0b3ff763e69"
      },
      "execution_count": null,
      "outputs": [
        {
          "output_type": "execute_result",
          "data": {
            "text/plain": [
              "array([0.26894142, 0.31479902, 0.36457644, 0.41742979, 0.47225076,\n",
              "       0.52774924, 0.58257021, 0.63542356, 0.68520098, 0.73105858])"
            ]
          },
          "metadata": {},
          "execution_count": 65
        }
      ]
    },
    {
      "cell_type": "code",
      "source": [
        "# quiz 2.\n",
        "# You do not need to enter any code for this question.  \n",
        "# Just attach the .h5 file for your RNN.\n",
        "from keras import layers, models\n",
        "model = models.Sequential()\n",
        "# YOUR CODE HERE!\n",
        "# model.add(layers.Embedding(max_features, 64))\n",
        "model.add(layers.Embedding(15000, 128))\n",
        "\n",
        "model.add(layers.Bidirectional(layers.LSTM(16, return_sequences=True)))\n",
        "model.add(layers.Bidirectional(layers.LSTM(16, return_sequences=False)))\n",
        "model.add(layers.Dropout(0.5))\n",
        "model.add(layers.Dense(1, activation='sigmoid'))"
      ],
      "metadata": {
        "id": "Nj_eMllXjqCE"
      },
      "execution_count": null,
      "outputs": []
    },
    {
      "cell_type": "code",
      "source": [
        "# quiz 3 send you github!!!!!!!!!!!!!"
      ],
      "metadata": {
        "id": "xZ9tsAHHMuX6"
      },
      "execution_count": null,
      "outputs": []
    }
  ],
  "metadata": {
    "kernelspec": {
      "display_name": "Python 3",
      "language": "python",
      "name": "python3"
    },
    "language_info": {
      "codemirror_mode": {
        "name": "ipython",
        "version": 3
      },
      "file_extension": ".py",
      "mimetype": "text/x-python",
      "name": "python",
      "nbconvert_exporter": "python",
      "pygments_lexer": "ipython3",
      "version": "3.7.10"
    },
    "colab": {
      "provenance": [],
      "collapsed_sections": [
        "WlhjIvZR_a0Q",
        "rloJamyvWPWj",
        "7c-duA1Z_a0R",
        "3ozUAZX__a0R"
      ],
      "include_colab_link": true
    }
  },
  "nbformat": 4,
  "nbformat_minor": 0
}