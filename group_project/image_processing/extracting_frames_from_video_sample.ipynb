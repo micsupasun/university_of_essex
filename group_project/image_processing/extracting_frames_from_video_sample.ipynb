{
  "nbformat": 4,
  "nbformat_minor": 0,
  "metadata": {
    "colab": {
      "name": "extracting_frames_from video_sample.ipynb",
      "provenance": []
    },
    "kernelspec": {
      "name": "python3",
      "display_name": "Python 3"
    },
    "language_info": {
      "name": "python"
    }
  },
  "cells": [
    {
      "cell_type": "code",
      "source": [
        "## https://www.askpython.com/python/examples/extract-images-from-video"
      ],
      "metadata": {
        "id": "WOhBYsV-fE2I"
      },
      "execution_count": null,
      "outputs": []
    },
    {
      "cell_type": "markdown",
      "source": [
        "# To extract frames from videos using python"
      ],
      "metadata": {
        "id": "aKANHv7hRDRy"
      }
    },
    {
      "cell_type": "code",
      "source": [
        "## goal is to extract each frame from a single video file with the help of the OpenCV module of the Python programming language."
      ],
      "metadata": {
        "id": "lvJ1t_gHuP6a"
      },
      "execution_count": null,
      "outputs": []
    },
    {
      "cell_type": "code",
      "source": [
        "## Steps required\n",
        "##1 Importing Modules\n",
        "##2 Capturing the video\n",
        "##3 Extracting each frame and saving the frame image\n",
        "##4 Releasing and Destroying all Windows"
      ],
      "metadata": {
        "id": "9ZQ_wseIRCzQ"
      },
      "execution_count": null,
      "outputs": []
    },
    {
      "cell_type": "code",
      "execution_count": 1,
      "metadata": {
        "id": "HuY7-IrrYPcR"
      },
      "outputs": [],
      "source": [
        "## step 1 importing all the necessary libraries\n",
        "\n",
        "import cv2     # using open cv"
      ]
    },
    {
      "cell_type": "code",
      "source": [
        "## step 2 Capturing the video\n",
        "'''\n",
        "To capture the video, we will be using the VideoCapture function of the opencv module and \n",
        "store the recorded video into a variable.\n",
        "'''\n",
        "cam = cv2.VideoCapture(\"video.mp4\")\n",
        "currentframe = 0"
      ],
      "metadata": {
        "id": "NhmHBeATvCZ2"
      },
      "execution_count": 2,
      "outputs": []
    },
    {
      "cell_type": "code",
      "source": [
        "## step 3 Extracting each frame and saving the frame image\n",
        "\n",
        "while(True):\n",
        "    ret,frame = cam.read()\n",
        "    if ret:\n",
        "        name = 'Video to Images\\Frame(' + str(currentframe) + ').jpg'\n",
        "        cv2.imwrite(name, frame)\n",
        "        currentframe += 1\n",
        "    else:\n",
        "        break"
      ],
      "metadata": {
        "id": "RT5h2xsyvwgD"
      },
      "execution_count": 3,
      "outputs": []
    },
    {
      "cell_type": "code",
      "source": [
        "##4 Releasing and Destroying all Windows\n",
        "\n",
        "cam.release()\n",
        "cv2.destroyAllWindows()"
      ],
      "metadata": {
        "id": "vve4lSAgwlTP"
      },
      "execution_count": 4,
      "outputs": []
    }
  ]
}